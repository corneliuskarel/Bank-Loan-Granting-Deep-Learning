{
 "cells": [
  {
   "cell_type": "code",
   "execution_count": 1,
   "id": "da740a54",
   "metadata": {
    "execution": {
     "iopub.execute_input": "2024-04-27T21:27:11.626484Z",
     "iopub.status.busy": "2024-04-27T21:27:11.625927Z",
     "iopub.status.idle": "2024-04-27T21:27:24.133924Z",
     "shell.execute_reply": "2024-04-27T21:27:24.132281Z"
    },
    "papermill": {
     "duration": 12.523714,
     "end_time": "2024-04-27T21:27:24.136330",
     "exception": false,
     "start_time": "2024-04-27T21:27:11.612616",
     "status": "completed"
    },
    "tags": []
   },
   "outputs": [
    {
     "name": "stdout",
     "output_type": "stream",
     "text": [
      "Collecting pgeocode\r\n",
      "  Downloading pgeocode-0.5.0-py3-none-any.whl.metadata (7.9 kB)\r\n",
      "Requirement already satisfied: requests in /opt/conda/lib/python3.10/site-packages (from pgeocode) (2.31.0)\r\n",
      "Requirement already satisfied: numpy in /opt/conda/lib/python3.10/site-packages (from pgeocode) (1.26.4)\r\n",
      "Requirement already satisfied: pandas in /opt/conda/lib/python3.10/site-packages (from pgeocode) (2.2.2)\r\n",
      "Requirement already satisfied: python-dateutil>=2.8.2 in /opt/conda/lib/python3.10/site-packages (from pandas->pgeocode) (2.9.0.post0)\r\n",
      "Requirement already satisfied: pytz>=2020.1 in /opt/conda/lib/python3.10/site-packages (from pandas->pgeocode) (2023.3.post1)\r\n",
      "Requirement already satisfied: tzdata>=2022.7 in /opt/conda/lib/python3.10/site-packages (from pandas->pgeocode) (2023.4)\r\n",
      "Requirement already satisfied: charset-normalizer<4,>=2 in /opt/conda/lib/python3.10/site-packages (from requests->pgeocode) (3.3.2)\r\n",
      "Requirement already satisfied: idna<4,>=2.5 in /opt/conda/lib/python3.10/site-packages (from requests->pgeocode) (3.6)\r\n",
      "Requirement already satisfied: urllib3<3,>=1.21.1 in /opt/conda/lib/python3.10/site-packages (from requests->pgeocode) (1.26.18)\r\n",
      "Requirement already satisfied: certifi>=2017.4.17 in /opt/conda/lib/python3.10/site-packages (from requests->pgeocode) (2024.2.2)\r\n",
      "Requirement already satisfied: six>=1.5 in /opt/conda/lib/python3.10/site-packages (from python-dateutil>=2.8.2->pandas->pgeocode) (1.16.0)\r\n",
      "Downloading pgeocode-0.5.0-py3-none-any.whl (9.8 kB)\r\n",
      "Installing collected packages: pgeocode\r\n",
      "Successfully installed pgeocode-0.5.0\r\n"
     ]
    }
   ],
   "source": [
    "#Install pgeocode to preprocess 'zip code' column\n",
    "!pip install pgeocode"
   ]
  },
  {
   "cell_type": "code",
   "execution_count": 2,
   "id": "ab117164",
   "metadata": {
    "_cell_guid": "b1076dfc-b9ad-4769-8c92-a6c4dae69d19",
    "_uuid": "8f2839f25d086af736a60e9eeb907d3b93b6e0e5",
    "execution": {
     "iopub.execute_input": "2024-04-27T21:27:24.160483Z",
     "iopub.status.busy": "2024-04-27T21:27:24.160027Z",
     "iopub.status.idle": "2024-04-27T21:27:39.622215Z",
     "shell.execute_reply": "2024-04-27T21:27:39.621397Z"
    },
    "papermill": {
     "duration": 15.478275,
     "end_time": "2024-04-27T21:27:39.625077",
     "exception": false,
     "start_time": "2024-04-27T21:27:24.146802",
     "status": "completed"
    },
    "tags": []
   },
   "outputs": [
    {
     "name": "stderr",
     "output_type": "stream",
     "text": [
      "2024-04-27 21:27:29.112353: E external/local_xla/xla/stream_executor/cuda/cuda_dnn.cc:9261] Unable to register cuDNN factory: Attempting to register factory for plugin cuDNN when one has already been registered\n",
      "2024-04-27 21:27:29.112504: E external/local_xla/xla/stream_executor/cuda/cuda_fft.cc:607] Unable to register cuFFT factory: Attempting to register factory for plugin cuFFT when one has already been registered\n",
      "2024-04-27 21:27:29.250060: E external/local_xla/xla/stream_executor/cuda/cuda_blas.cc:1515] Unable to register cuBLAS factory: Attempting to register factory for plugin cuBLAS when one has already been registered\n"
     ]
    },
    {
     "name": "stdout",
     "output_type": "stream",
     "text": [
      "/kaggle/input/bank-loan-granting/Bank_Loan_Granting.csv\n"
     ]
    }
   ],
   "source": [
    "#Import Library\n",
    "import numpy as np \n",
    "import pandas as pd \n",
    "import seaborn as sns\n",
    "import matplotlib.pyplot as plt\n",
    "import pgeocode\n",
    "import warnings\n",
    "from sklearn.model_selection import train_test_split\n",
    "warnings.filterwarnings('ignore')\n",
    "\n",
    "#SMOTE library\n",
    "from imblearn.over_sampling import SMOTE\n",
    "#Scaler library\n",
    "from sklearn.preprocessing import RobustScaler\n",
    "#tf library\n",
    "import tensorflow as tf\n",
    "from tensorflow.keras.callbacks import EarlyStopping\n",
    "\n",
    "#kaggle directory uplaoded from a local file in laptop\n",
    "import os\n",
    "for dirname, _, filenames in os.walk('/kaggle/input'):\n",
    "    for filename in filenames:\n",
    "        print(os.path.join(dirname, filename))"
   ]
  },
  {
   "cell_type": "markdown",
   "id": "5c7384ec",
   "metadata": {
    "papermill": {
     "duration": 0.01128,
     "end_time": "2024-04-27T21:27:39.649127",
     "exception": false,
     "start_time": "2024-04-27T21:27:39.637847",
     "status": "completed"
    },
    "tags": []
   },
   "source": [
    "#### Binary classification to predict whether a person is granted a personal loan(1) or not(0) using BPNN."
   ]
  },
  {
   "cell_type": "markdown",
   "id": "2c86b18b",
   "metadata": {
    "papermill": {
     "duration": 0.01159,
     "end_time": "2024-04-27T21:27:39.674051",
     "exception": false,
     "start_time": "2024-04-27T21:27:39.662461",
     "status": "completed"
    },
    "tags": []
   },
   "source": [
    "# Preprocessing"
   ]
  },
  {
   "cell_type": "code",
   "execution_count": 3,
   "id": "1a6c1d6e",
   "metadata": {
    "execution": {
     "iopub.execute_input": "2024-04-27T21:27:39.697632Z",
     "iopub.status.busy": "2024-04-27T21:27:39.696593Z",
     "iopub.status.idle": "2024-04-27T21:27:39.744336Z",
     "shell.execute_reply": "2024-04-27T21:27:39.742073Z"
    },
    "papermill": {
     "duration": 0.061981,
     "end_time": "2024-04-27T21:27:39.746654",
     "exception": false,
     "start_time": "2024-04-27T21:27:39.684673",
     "status": "completed"
    },
    "tags": []
   },
   "outputs": [
    {
     "data": {
      "text/html": [
       "<div>\n",
       "<style scoped>\n",
       "    .dataframe tbody tr th:only-of-type {\n",
       "        vertical-align: middle;\n",
       "    }\n",
       "\n",
       "    .dataframe tbody tr th {\n",
       "        vertical-align: top;\n",
       "    }\n",
       "\n",
       "    .dataframe thead th {\n",
       "        text-align: right;\n",
       "    }\n",
       "</style>\n",
       "<table border=\"1\" class=\"dataframe\">\n",
       "  <thead>\n",
       "    <tr style=\"text-align: right;\">\n",
       "      <th></th>\n",
       "      <th>ID</th>\n",
       "      <th>Age</th>\n",
       "      <th>Experience</th>\n",
       "      <th>Income</th>\n",
       "      <th>ZIP Code</th>\n",
       "      <th>Family</th>\n",
       "      <th>CCAvg</th>\n",
       "      <th>Education</th>\n",
       "      <th>Mortgage</th>\n",
       "      <th>Personal Loan</th>\n",
       "      <th>Securities Account</th>\n",
       "      <th>CD Account</th>\n",
       "      <th>Online</th>\n",
       "      <th>CreditCard</th>\n",
       "    </tr>\n",
       "  </thead>\n",
       "  <tbody>\n",
       "    <tr>\n",
       "      <th>0</th>\n",
       "      <td>1</td>\n",
       "      <td>25</td>\n",
       "      <td>1</td>\n",
       "      <td>49</td>\n",
       "      <td>91107</td>\n",
       "      <td>4</td>\n",
       "      <td>1/60</td>\n",
       "      <td>1</td>\n",
       "      <td>0</td>\n",
       "      <td>0</td>\n",
       "      <td>1</td>\n",
       "      <td>0</td>\n",
       "      <td>0</td>\n",
       "      <td>0</td>\n",
       "    </tr>\n",
       "    <tr>\n",
       "      <th>1</th>\n",
       "      <td>2</td>\n",
       "      <td>45</td>\n",
       "      <td>19</td>\n",
       "      <td>34</td>\n",
       "      <td>90089</td>\n",
       "      <td>3</td>\n",
       "      <td>1/50</td>\n",
       "      <td>1</td>\n",
       "      <td>0</td>\n",
       "      <td>0</td>\n",
       "      <td>1</td>\n",
       "      <td>0</td>\n",
       "      <td>0</td>\n",
       "      <td>0</td>\n",
       "    </tr>\n",
       "    <tr>\n",
       "      <th>2</th>\n",
       "      <td>3</td>\n",
       "      <td>39</td>\n",
       "      <td>15</td>\n",
       "      <td>11</td>\n",
       "      <td>94720</td>\n",
       "      <td>1</td>\n",
       "      <td>1/00</td>\n",
       "      <td>1</td>\n",
       "      <td>0</td>\n",
       "      <td>0</td>\n",
       "      <td>0</td>\n",
       "      <td>0</td>\n",
       "      <td>0</td>\n",
       "      <td>0</td>\n",
       "    </tr>\n",
       "    <tr>\n",
       "      <th>3</th>\n",
       "      <td>4</td>\n",
       "      <td>35</td>\n",
       "      <td>9</td>\n",
       "      <td>100</td>\n",
       "      <td>94112</td>\n",
       "      <td>1</td>\n",
       "      <td>2/70</td>\n",
       "      <td>2</td>\n",
       "      <td>0</td>\n",
       "      <td>0</td>\n",
       "      <td>0</td>\n",
       "      <td>0</td>\n",
       "      <td>0</td>\n",
       "      <td>0</td>\n",
       "    </tr>\n",
       "    <tr>\n",
       "      <th>4</th>\n",
       "      <td>5</td>\n",
       "      <td>35</td>\n",
       "      <td>8</td>\n",
       "      <td>45</td>\n",
       "      <td>91330</td>\n",
       "      <td>4</td>\n",
       "      <td>1/00</td>\n",
       "      <td>2</td>\n",
       "      <td>0</td>\n",
       "      <td>0</td>\n",
       "      <td>0</td>\n",
       "      <td>0</td>\n",
       "      <td>0</td>\n",
       "      <td>1</td>\n",
       "    </tr>\n",
       "  </tbody>\n",
       "</table>\n",
       "</div>"
      ],
      "text/plain": [
       "   ID  Age  Experience  Income  ZIP Code  Family CCAvg  Education  Mortgage  \\\n",
       "0   1   25           1      49     91107       4  1/60          1         0   \n",
       "1   2   45          19      34     90089       3  1/50          1         0   \n",
       "2   3   39          15      11     94720       1  1/00          1         0   \n",
       "3   4   35           9     100     94112       1  2/70          2         0   \n",
       "4   5   35           8      45     91330       4  1/00          2         0   \n",
       "\n",
       "   Personal Loan  Securities Account  CD Account  Online  CreditCard  \n",
       "0              0                   1           0       0           0  \n",
       "1              0                   1           0       0           0  \n",
       "2              0                   0           0       0           0  \n",
       "3              0                   0           0       0           0  \n",
       "4              0                   0           0       0           1  "
      ]
     },
     "execution_count": 3,
     "metadata": {},
     "output_type": "execute_result"
    }
   ],
   "source": [
    "#Load dataset\n",
    "df = pd.read_csv('/kaggle/input/bank-loan-granting/Bank_Loan_Granting.csv')\n",
    "df.head()"
   ]
  },
  {
   "cell_type": "markdown",
   "id": "d071bc92",
   "metadata": {
    "papermill": {
     "duration": 0.010074,
     "end_time": "2024-04-27T21:27:39.767324",
     "exception": false,
     "start_time": "2024-04-27T21:27:39.757250",
     "status": "completed"
    },
    "tags": []
   },
   "source": [
    "#### There are a few things that need to be preprocessed first so we can analize it later on like \"Zip Code\" and \"CCAvg\""
   ]
  },
  {
   "cell_type": "code",
   "execution_count": 4,
   "id": "0781b09f",
   "metadata": {
    "execution": {
     "iopub.execute_input": "2024-04-27T21:27:39.790105Z",
     "iopub.status.busy": "2024-04-27T21:27:39.789289Z",
     "iopub.status.idle": "2024-04-27T21:27:39.796097Z",
     "shell.execute_reply": "2024-04-27T21:27:39.795402Z"
    },
    "papermill": {
     "duration": 0.020252,
     "end_time": "2024-04-27T21:27:39.797617",
     "exception": false,
     "start_time": "2024-04-27T21:27:39.777365",
     "status": "completed"
    },
    "tags": []
   },
   "outputs": [],
   "source": [
    "#CCAvg column seems to have an error in formatting, it uses '/' rather than '.' since it is an average value of spending per month.\n",
    "\n",
    "#Replacing '/' with '.' for 'CCAvg' col\n",
    "df.CCAvg = df['CCAvg'].str.replace('/','.')"
   ]
  },
  {
   "cell_type": "code",
   "execution_count": 5,
   "id": "941a2ff7",
   "metadata": {
    "execution": {
     "iopub.execute_input": "2024-04-27T21:27:39.820833Z",
     "iopub.status.busy": "2024-04-27T21:27:39.820116Z",
     "iopub.status.idle": "2024-04-27T21:28:30.397618Z",
     "shell.execute_reply": "2024-04-27T21:28:30.396248Z"
    },
    "papermill": {
     "duration": 50.591808,
     "end_time": "2024-04-27T21:28:30.399896",
     "exception": false,
     "start_time": "2024-04-27T21:27:39.808088",
     "status": "completed"
    },
    "tags": []
   },
   "outputs": [],
   "source": [
    "#ZIP Code can be derived to find exactly the latitude and longitude coordinate of a subject using pgeocode library\n",
    "\n",
    "#first, we need to locate where this data is from, i looked on google for country where the zip codes are 5-digit numbers, looks like it is in the United States\n",
    "\n",
    "#declare the location to browse the zip codes\n",
    "location = pgeocode.Nominatim('us')\n",
    "\n",
    "#Create a list to save the latitude & longitude result\n",
    "lat = []\n",
    "long = []\n",
    "\n",
    "#iterate through each row to browse its latitude & longitude value\n",
    "for row in df['ZIP Code']:\n",
    "    res = location.query_postal_code(row)\n",
    "    lat.append(res['latitude'])\n",
    "    long.append(res['longitude'])\n",
    "\n",
    "#Append the result to the main dataframe\n",
    "df['lat'] = pd.DataFrame(lat)\n",
    "df['lon'] = pd.DataFrame(long)"
   ]
  },
  {
   "cell_type": "markdown",
   "id": "f54450de",
   "metadata": {
    "papermill": {
     "duration": 0.010524,
     "end_time": "2024-04-27T21:28:30.421668",
     "exception": false,
     "start_time": "2024-04-27T21:28:30.411144",
     "status": "completed"
    },
    "tags": []
   },
   "source": [
    "#### Initially we can also search for its County & City by Zip codes, but instead i will only use latitude & longitude, since using county & city could lead to potential increase in dimentionality while encoding. "
   ]
  },
  {
   "cell_type": "code",
   "execution_count": 6,
   "id": "3755d0b1",
   "metadata": {
    "execution": {
     "iopub.execute_input": "2024-04-27T21:28:30.444981Z",
     "iopub.status.busy": "2024-04-27T21:28:30.444276Z",
     "iopub.status.idle": "2024-04-27T21:28:30.461919Z",
     "shell.execute_reply": "2024-04-27T21:28:30.461180Z"
    },
    "papermill": {
     "duration": 0.031452,
     "end_time": "2024-04-27T21:28:30.463545",
     "exception": false,
     "start_time": "2024-04-27T21:28:30.432093",
     "status": "completed"
    },
    "tags": []
   },
   "outputs": [
    {
     "data": {
      "text/html": [
       "<div>\n",
       "<style scoped>\n",
       "    .dataframe tbody tr th:only-of-type {\n",
       "        vertical-align: middle;\n",
       "    }\n",
       "\n",
       "    .dataframe tbody tr th {\n",
       "        vertical-align: top;\n",
       "    }\n",
       "\n",
       "    .dataframe thead th {\n",
       "        text-align: right;\n",
       "    }\n",
       "</style>\n",
       "<table border=\"1\" class=\"dataframe\">\n",
       "  <thead>\n",
       "    <tr style=\"text-align: right;\">\n",
       "      <th></th>\n",
       "      <th>ID</th>\n",
       "      <th>Age</th>\n",
       "      <th>Experience</th>\n",
       "      <th>Income</th>\n",
       "      <th>ZIP Code</th>\n",
       "      <th>Family</th>\n",
       "      <th>CCAvg</th>\n",
       "      <th>Education</th>\n",
       "      <th>Mortgage</th>\n",
       "      <th>Personal Loan</th>\n",
       "      <th>Securities Account</th>\n",
       "      <th>CD Account</th>\n",
       "      <th>Online</th>\n",
       "      <th>CreditCard</th>\n",
       "      <th>lat</th>\n",
       "      <th>lon</th>\n",
       "    </tr>\n",
       "  </thead>\n",
       "  <tbody>\n",
       "    <tr>\n",
       "      <th>0</th>\n",
       "      <td>1</td>\n",
       "      <td>25</td>\n",
       "      <td>1</td>\n",
       "      <td>49</td>\n",
       "      <td>91107</td>\n",
       "      <td>4</td>\n",
       "      <td>1.60</td>\n",
       "      <td>1</td>\n",
       "      <td>0</td>\n",
       "      <td>0</td>\n",
       "      <td>1</td>\n",
       "      <td>0</td>\n",
       "      <td>0</td>\n",
       "      <td>0</td>\n",
       "      <td>34.1510</td>\n",
       "      <td>-118.0889</td>\n",
       "    </tr>\n",
       "    <tr>\n",
       "      <th>1</th>\n",
       "      <td>2</td>\n",
       "      <td>45</td>\n",
       "      <td>19</td>\n",
       "      <td>34</td>\n",
       "      <td>90089</td>\n",
       "      <td>3</td>\n",
       "      <td>1.50</td>\n",
       "      <td>1</td>\n",
       "      <td>0</td>\n",
       "      <td>0</td>\n",
       "      <td>1</td>\n",
       "      <td>0</td>\n",
       "      <td>0</td>\n",
       "      <td>0</td>\n",
       "      <td>33.7866</td>\n",
       "      <td>-118.2987</td>\n",
       "    </tr>\n",
       "    <tr>\n",
       "      <th>2</th>\n",
       "      <td>3</td>\n",
       "      <td>39</td>\n",
       "      <td>15</td>\n",
       "      <td>11</td>\n",
       "      <td>94720</td>\n",
       "      <td>1</td>\n",
       "      <td>1.00</td>\n",
       "      <td>1</td>\n",
       "      <td>0</td>\n",
       "      <td>0</td>\n",
       "      <td>0</td>\n",
       "      <td>0</td>\n",
       "      <td>0</td>\n",
       "      <td>0</td>\n",
       "      <td>37.8738</td>\n",
       "      <td>-122.2549</td>\n",
       "    </tr>\n",
       "    <tr>\n",
       "      <th>3</th>\n",
       "      <td>4</td>\n",
       "      <td>35</td>\n",
       "      <td>9</td>\n",
       "      <td>100</td>\n",
       "      <td>94112</td>\n",
       "      <td>1</td>\n",
       "      <td>2.70</td>\n",
       "      <td>2</td>\n",
       "      <td>0</td>\n",
       "      <td>0</td>\n",
       "      <td>0</td>\n",
       "      <td>0</td>\n",
       "      <td>0</td>\n",
       "      <td>0</td>\n",
       "      <td>37.7195</td>\n",
       "      <td>-122.4411</td>\n",
       "    </tr>\n",
       "    <tr>\n",
       "      <th>4</th>\n",
       "      <td>5</td>\n",
       "      <td>35</td>\n",
       "      <td>8</td>\n",
       "      <td>45</td>\n",
       "      <td>91330</td>\n",
       "      <td>4</td>\n",
       "      <td>1.00</td>\n",
       "      <td>2</td>\n",
       "      <td>0</td>\n",
       "      <td>0</td>\n",
       "      <td>0</td>\n",
       "      <td>0</td>\n",
       "      <td>0</td>\n",
       "      <td>1</td>\n",
       "      <td>34.2283</td>\n",
       "      <td>-118.5368</td>\n",
       "    </tr>\n",
       "  </tbody>\n",
       "</table>\n",
       "</div>"
      ],
      "text/plain": [
       "   ID  Age  Experience  Income  ZIP Code  Family CCAvg  Education  Mortgage  \\\n",
       "0   1   25           1      49     91107       4  1.60          1         0   \n",
       "1   2   45          19      34     90089       3  1.50          1         0   \n",
       "2   3   39          15      11     94720       1  1.00          1         0   \n",
       "3   4   35           9     100     94112       1  2.70          2         0   \n",
       "4   5   35           8      45     91330       4  1.00          2         0   \n",
       "\n",
       "   Personal Loan  Securities Account  CD Account  Online  CreditCard      lat  \\\n",
       "0              0                   1           0       0           0  34.1510   \n",
       "1              0                   1           0       0           0  33.7866   \n",
       "2              0                   0           0       0           0  37.8738   \n",
       "3              0                   0           0       0           0  37.7195   \n",
       "4              0                   0           0       0           1  34.2283   \n",
       "\n",
       "        lon  \n",
       "0 -118.0889  \n",
       "1 -118.2987  \n",
       "2 -122.2549  \n",
       "3 -122.4411  \n",
       "4 -118.5368  "
      ]
     },
     "execution_count": 6,
     "metadata": {},
     "output_type": "execute_result"
    }
   ],
   "source": [
    "#Check head again after preprocessed\n",
    "df.head()"
   ]
  },
  {
   "cell_type": "markdown",
   "id": "981cde08",
   "metadata": {
    "papermill": {
     "duration": 0.010104,
     "end_time": "2024-04-27T21:28:30.484270",
     "exception": false,
     "start_time": "2024-04-27T21:28:30.474166",
     "status": "completed"
    },
    "tags": []
   },
   "source": [
    "# EDA"
   ]
  },
  {
   "cell_type": "code",
   "execution_count": 7,
   "id": "d5d5cd37",
   "metadata": {
    "execution": {
     "iopub.execute_input": "2024-04-27T21:28:30.507804Z",
     "iopub.status.busy": "2024-04-27T21:28:30.506504Z",
     "iopub.status.idle": "2024-04-27T21:28:30.547013Z",
     "shell.execute_reply": "2024-04-27T21:28:30.546107Z"
    },
    "papermill": {
     "duration": 0.054352,
     "end_time": "2024-04-27T21:28:30.548845",
     "exception": false,
     "start_time": "2024-04-27T21:28:30.494493",
     "status": "completed"
    },
    "tags": []
   },
   "outputs": [
    {
     "data": {
      "text/html": [
       "<div>\n",
       "<style scoped>\n",
       "    .dataframe tbody tr th:only-of-type {\n",
       "        vertical-align: middle;\n",
       "    }\n",
       "\n",
       "    .dataframe tbody tr th {\n",
       "        vertical-align: top;\n",
       "    }\n",
       "\n",
       "    .dataframe thead th {\n",
       "        text-align: right;\n",
       "    }\n",
       "</style>\n",
       "<table border=\"1\" class=\"dataframe\">\n",
       "  <thead>\n",
       "    <tr style=\"text-align: right;\">\n",
       "      <th></th>\n",
       "      <th>count</th>\n",
       "      <th>mean</th>\n",
       "      <th>std</th>\n",
       "      <th>min</th>\n",
       "      <th>25%</th>\n",
       "      <th>50%</th>\n",
       "      <th>75%</th>\n",
       "      <th>max</th>\n",
       "    </tr>\n",
       "  </thead>\n",
       "  <tbody>\n",
       "    <tr>\n",
       "      <th>ID</th>\n",
       "      <td>5000.0</td>\n",
       "      <td>2500.500000</td>\n",
       "      <td>1443.520003</td>\n",
       "      <td>1.0000</td>\n",
       "      <td>1250.7500</td>\n",
       "      <td>2500.5000</td>\n",
       "      <td>3750.2500</td>\n",
       "      <td>5000.0000</td>\n",
       "    </tr>\n",
       "    <tr>\n",
       "      <th>Age</th>\n",
       "      <td>5000.0</td>\n",
       "      <td>45.338400</td>\n",
       "      <td>11.463166</td>\n",
       "      <td>23.0000</td>\n",
       "      <td>35.0000</td>\n",
       "      <td>45.0000</td>\n",
       "      <td>55.0000</td>\n",
       "      <td>67.0000</td>\n",
       "    </tr>\n",
       "    <tr>\n",
       "      <th>Experience</th>\n",
       "      <td>5000.0</td>\n",
       "      <td>20.104600</td>\n",
       "      <td>11.467954</td>\n",
       "      <td>-3.0000</td>\n",
       "      <td>10.0000</td>\n",
       "      <td>20.0000</td>\n",
       "      <td>30.0000</td>\n",
       "      <td>43.0000</td>\n",
       "    </tr>\n",
       "    <tr>\n",
       "      <th>Income</th>\n",
       "      <td>5000.0</td>\n",
       "      <td>73.774200</td>\n",
       "      <td>46.033729</td>\n",
       "      <td>8.0000</td>\n",
       "      <td>39.0000</td>\n",
       "      <td>64.0000</td>\n",
       "      <td>98.0000</td>\n",
       "      <td>224.0000</td>\n",
       "    </tr>\n",
       "    <tr>\n",
       "      <th>ZIP Code</th>\n",
       "      <td>5000.0</td>\n",
       "      <td>93152.503000</td>\n",
       "      <td>2121.852197</td>\n",
       "      <td>9307.0000</td>\n",
       "      <td>91911.0000</td>\n",
       "      <td>93437.0000</td>\n",
       "      <td>94608.0000</td>\n",
       "      <td>96651.0000</td>\n",
       "    </tr>\n",
       "    <tr>\n",
       "      <th>Family</th>\n",
       "      <td>5000.0</td>\n",
       "      <td>2.396400</td>\n",
       "      <td>1.147663</td>\n",
       "      <td>1.0000</td>\n",
       "      <td>1.0000</td>\n",
       "      <td>2.0000</td>\n",
       "      <td>3.0000</td>\n",
       "      <td>4.0000</td>\n",
       "    </tr>\n",
       "    <tr>\n",
       "      <th>Education</th>\n",
       "      <td>5000.0</td>\n",
       "      <td>1.881000</td>\n",
       "      <td>0.839869</td>\n",
       "      <td>1.0000</td>\n",
       "      <td>1.0000</td>\n",
       "      <td>2.0000</td>\n",
       "      <td>3.0000</td>\n",
       "      <td>3.0000</td>\n",
       "    </tr>\n",
       "    <tr>\n",
       "      <th>Mortgage</th>\n",
       "      <td>5000.0</td>\n",
       "      <td>56.498800</td>\n",
       "      <td>101.713802</td>\n",
       "      <td>0.0000</td>\n",
       "      <td>0.0000</td>\n",
       "      <td>0.0000</td>\n",
       "      <td>101.0000</td>\n",
       "      <td>635.0000</td>\n",
       "    </tr>\n",
       "    <tr>\n",
       "      <th>Personal Loan</th>\n",
       "      <td>5000.0</td>\n",
       "      <td>0.096000</td>\n",
       "      <td>0.294621</td>\n",
       "      <td>0.0000</td>\n",
       "      <td>0.0000</td>\n",
       "      <td>0.0000</td>\n",
       "      <td>0.0000</td>\n",
       "      <td>1.0000</td>\n",
       "    </tr>\n",
       "    <tr>\n",
       "      <th>Securities Account</th>\n",
       "      <td>5000.0</td>\n",
       "      <td>0.104400</td>\n",
       "      <td>0.305809</td>\n",
       "      <td>0.0000</td>\n",
       "      <td>0.0000</td>\n",
       "      <td>0.0000</td>\n",
       "      <td>0.0000</td>\n",
       "      <td>1.0000</td>\n",
       "    </tr>\n",
       "    <tr>\n",
       "      <th>CD Account</th>\n",
       "      <td>5000.0</td>\n",
       "      <td>0.060400</td>\n",
       "      <td>0.238250</td>\n",
       "      <td>0.0000</td>\n",
       "      <td>0.0000</td>\n",
       "      <td>0.0000</td>\n",
       "      <td>0.0000</td>\n",
       "      <td>1.0000</td>\n",
       "    </tr>\n",
       "    <tr>\n",
       "      <th>Online</th>\n",
       "      <td>5000.0</td>\n",
       "      <td>0.596800</td>\n",
       "      <td>0.490589</td>\n",
       "      <td>0.0000</td>\n",
       "      <td>0.0000</td>\n",
       "      <td>1.0000</td>\n",
       "      <td>1.0000</td>\n",
       "      <td>1.0000</td>\n",
       "    </tr>\n",
       "    <tr>\n",
       "      <th>CreditCard</th>\n",
       "      <td>5000.0</td>\n",
       "      <td>0.294000</td>\n",
       "      <td>0.455637</td>\n",
       "      <td>0.0000</td>\n",
       "      <td>0.0000</td>\n",
       "      <td>0.0000</td>\n",
       "      <td>1.0000</td>\n",
       "      <td>1.0000</td>\n",
       "    </tr>\n",
       "    <tr>\n",
       "      <th>lat</th>\n",
       "      <td>4959.0</td>\n",
       "      <td>35.786663</td>\n",
       "      <td>2.105600</td>\n",
       "      <td>32.5626</td>\n",
       "      <td>33.9533</td>\n",
       "      <td>35.3855</td>\n",
       "      <td>37.7509</td>\n",
       "      <td>41.7243</td>\n",
       "    </tr>\n",
       "    <tr>\n",
       "      <th>lon</th>\n",
       "      <td>4959.0</td>\n",
       "      <td>-120.038983</td>\n",
       "      <td>2.090673</td>\n",
       "      <td>-124.1593</td>\n",
       "      <td>-122.1388</td>\n",
       "      <td>-119.8612</td>\n",
       "      <td>-118.0857</td>\n",
       "      <td>-115.5730</td>\n",
       "    </tr>\n",
       "  </tbody>\n",
       "</table>\n",
       "</div>"
      ],
      "text/plain": [
       "                     count          mean          std        min         25%  \\\n",
       "ID                  5000.0   2500.500000  1443.520003     1.0000   1250.7500   \n",
       "Age                 5000.0     45.338400    11.463166    23.0000     35.0000   \n",
       "Experience          5000.0     20.104600    11.467954    -3.0000     10.0000   \n",
       "Income              5000.0     73.774200    46.033729     8.0000     39.0000   \n",
       "ZIP Code            5000.0  93152.503000  2121.852197  9307.0000  91911.0000   \n",
       "Family              5000.0      2.396400     1.147663     1.0000      1.0000   \n",
       "Education           5000.0      1.881000     0.839869     1.0000      1.0000   \n",
       "Mortgage            5000.0     56.498800   101.713802     0.0000      0.0000   \n",
       "Personal Loan       5000.0      0.096000     0.294621     0.0000      0.0000   \n",
       "Securities Account  5000.0      0.104400     0.305809     0.0000      0.0000   \n",
       "CD Account          5000.0      0.060400     0.238250     0.0000      0.0000   \n",
       "Online              5000.0      0.596800     0.490589     0.0000      0.0000   \n",
       "CreditCard          5000.0      0.294000     0.455637     0.0000      0.0000   \n",
       "lat                 4959.0     35.786663     2.105600    32.5626     33.9533   \n",
       "lon                 4959.0   -120.038983     2.090673  -124.1593   -122.1388   \n",
       "\n",
       "                           50%         75%         max  \n",
       "ID                   2500.5000   3750.2500   5000.0000  \n",
       "Age                    45.0000     55.0000     67.0000  \n",
       "Experience             20.0000     30.0000     43.0000  \n",
       "Income                 64.0000     98.0000    224.0000  \n",
       "ZIP Code            93437.0000  94608.0000  96651.0000  \n",
       "Family                  2.0000      3.0000      4.0000  \n",
       "Education               2.0000      3.0000      3.0000  \n",
       "Mortgage                0.0000    101.0000    635.0000  \n",
       "Personal Loan           0.0000      0.0000      1.0000  \n",
       "Securities Account      0.0000      0.0000      1.0000  \n",
       "CD Account              0.0000      0.0000      1.0000  \n",
       "Online                  1.0000      1.0000      1.0000  \n",
       "CreditCard              0.0000      1.0000      1.0000  \n",
       "lat                    35.3855     37.7509     41.7243  \n",
       "lon                  -119.8612   -118.0857   -115.5730  "
      ]
     },
     "execution_count": 7,
     "metadata": {},
     "output_type": "execute_result"
    }
   ],
   "source": [
    "#Descriptive statistics\n",
    "df.describe().T"
   ]
  },
  {
   "cell_type": "code",
   "execution_count": 8,
   "id": "530c89e2",
   "metadata": {
    "execution": {
     "iopub.execute_input": "2024-04-27T21:28:30.573108Z",
     "iopub.status.busy": "2024-04-27T21:28:30.571551Z",
     "iopub.status.idle": "2024-04-27T21:28:30.579179Z",
     "shell.execute_reply": "2024-04-27T21:28:30.578368Z"
    },
    "papermill": {
     "duration": 0.021221,
     "end_time": "2024-04-27T21:28:30.580880",
     "exception": false,
     "start_time": "2024-04-27T21:28:30.559659",
     "status": "completed"
    },
    "tags": []
   },
   "outputs": [
    {
     "data": {
      "text/plain": [
       "(5000, 16)"
      ]
     },
     "execution_count": 8,
     "metadata": {},
     "output_type": "execute_result"
    }
   ],
   "source": [
    "#Check dimension/shape\n",
    "df.shape"
   ]
  },
  {
   "cell_type": "code",
   "execution_count": 9,
   "id": "8c084ca4",
   "metadata": {
    "execution": {
     "iopub.execute_input": "2024-04-27T21:28:30.604952Z",
     "iopub.status.busy": "2024-04-27T21:28:30.604588Z",
     "iopub.status.idle": "2024-04-27T21:28:30.622082Z",
     "shell.execute_reply": "2024-04-27T21:28:30.620579Z"
    },
    "papermill": {
     "duration": 0.032341,
     "end_time": "2024-04-27T21:28:30.624744",
     "exception": false,
     "start_time": "2024-04-27T21:28:30.592403",
     "status": "completed"
    },
    "tags": []
   },
   "outputs": [
    {
     "name": "stdout",
     "output_type": "stream",
     "text": [
      "<class 'pandas.core.frame.DataFrame'>\n",
      "RangeIndex: 5000 entries, 0 to 4999\n",
      "Data columns (total 16 columns):\n",
      " #   Column              Non-Null Count  Dtype  \n",
      "---  ------              --------------  -----  \n",
      " 0   ID                  5000 non-null   int64  \n",
      " 1   Age                 5000 non-null   int64  \n",
      " 2   Experience          5000 non-null   int64  \n",
      " 3   Income              5000 non-null   int64  \n",
      " 4   ZIP Code            5000 non-null   int64  \n",
      " 5   Family              5000 non-null   int64  \n",
      " 6   CCAvg               5000 non-null   object \n",
      " 7   Education           5000 non-null   int64  \n",
      " 8   Mortgage            5000 non-null   int64  \n",
      " 9   Personal Loan       5000 non-null   int64  \n",
      " 10  Securities Account  5000 non-null   int64  \n",
      " 11  CD Account          5000 non-null   int64  \n",
      " 12  Online              5000 non-null   int64  \n",
      " 13  CreditCard          5000 non-null   int64  \n",
      " 14  lat                 4959 non-null   float64\n",
      " 15  lon                 4959 non-null   float64\n",
      "dtypes: float64(2), int64(13), object(1)\n",
      "memory usage: 625.1+ KB\n"
     ]
    }
   ],
   "source": [
    "#Check column datatype\n",
    "df.info()"
   ]
  },
  {
   "cell_type": "markdown",
   "id": "fca70bab",
   "metadata": {
    "papermill": {
     "duration": 0.011296,
     "end_time": "2024-04-27T21:28:30.647513",
     "exception": false,
     "start_time": "2024-04-27T21:28:30.636217",
     "status": "completed"
    },
    "tags": []
   },
   "source": [
    "#### Looks like we need to cast CCAvg column into numeric(float) so we can process it later."
   ]
  },
  {
   "cell_type": "code",
   "execution_count": 10,
   "id": "bbe3a045",
   "metadata": {
    "execution": {
     "iopub.execute_input": "2024-04-27T21:28:30.672797Z",
     "iopub.status.busy": "2024-04-27T21:28:30.672283Z",
     "iopub.status.idle": "2024-04-27T21:28:30.680087Z",
     "shell.execute_reply": "2024-04-27T21:28:30.678590Z"
    },
    "papermill": {
     "duration": 0.024009,
     "end_time": "2024-04-27T21:28:30.682926",
     "exception": false,
     "start_time": "2024-04-27T21:28:30.658917",
     "status": "completed"
    },
    "tags": []
   },
   "outputs": [],
   "source": [
    "#casting 'CCAvg' to float\n",
    "df.CCAvg = df['CCAvg'].astype('float64')"
   ]
  },
  {
   "cell_type": "code",
   "execution_count": 11,
   "id": "b106201b",
   "metadata": {
    "execution": {
     "iopub.execute_input": "2024-04-27T21:28:30.708573Z",
     "iopub.status.busy": "2024-04-27T21:28:30.708071Z",
     "iopub.status.idle": "2024-04-27T21:28:30.718806Z",
     "shell.execute_reply": "2024-04-27T21:28:30.717421Z"
    },
    "papermill": {
     "duration": 0.026939,
     "end_time": "2024-04-27T21:28:30.722012",
     "exception": false,
     "start_time": "2024-04-27T21:28:30.695073",
     "status": "completed"
    },
    "tags": []
   },
   "outputs": [
    {
     "data": {
      "text/plain": [
       "ID                     0\n",
       "Age                    0\n",
       "Experience             0\n",
       "Income                 0\n",
       "ZIP Code               0\n",
       "Family                 0\n",
       "CCAvg                  0\n",
       "Education              0\n",
       "Mortgage               0\n",
       "Personal Loan          0\n",
       "Securities Account     0\n",
       "CD Account             0\n",
       "Online                 0\n",
       "CreditCard             0\n",
       "lat                   41\n",
       "lon                   41\n",
       "dtype: int64"
      ]
     },
     "execution_count": 11,
     "metadata": {},
     "output_type": "execute_result"
    }
   ],
   "source": [
    "#Check for missing values\n",
    "df.isna().sum()"
   ]
  },
  {
   "cell_type": "markdown",
   "id": "c735c781",
   "metadata": {
    "papermill": {
     "duration": 0.011687,
     "end_time": "2024-04-27T21:28:30.746158",
     "exception": false,
     "start_time": "2024-04-27T21:28:30.734471",
     "status": "completed"
    },
    "tags": []
   },
   "source": [
    "#### Since there are 41 missing value from latitude and longitude columns, assuming there is an error from the pgeocode library, the 41 rows will be dropped."
   ]
  },
  {
   "cell_type": "code",
   "execution_count": 12,
   "id": "224db2f7",
   "metadata": {
    "execution": {
     "iopub.execute_input": "2024-04-27T21:28:30.772411Z",
     "iopub.status.busy": "2024-04-27T21:28:30.772053Z",
     "iopub.status.idle": "2024-04-27T21:28:30.778766Z",
     "shell.execute_reply": "2024-04-27T21:28:30.777755Z"
    },
    "papermill": {
     "duration": 0.021634,
     "end_time": "2024-04-27T21:28:30.780788",
     "exception": false,
     "start_time": "2024-04-27T21:28:30.759154",
     "status": "completed"
    },
    "tags": []
   },
   "outputs": [],
   "source": [
    "#Dropping NA\n",
    "df.dropna( inplace = True)"
   ]
  },
  {
   "cell_type": "code",
   "execution_count": 13,
   "id": "feedac3e",
   "metadata": {
    "execution": {
     "iopub.execute_input": "2024-04-27T21:28:30.806356Z",
     "iopub.status.busy": "2024-04-27T21:28:30.806045Z",
     "iopub.status.idle": "2024-04-27T21:28:30.813552Z",
     "shell.execute_reply": "2024-04-27T21:28:30.812461Z"
    },
    "papermill": {
     "duration": 0.022399,
     "end_time": "2024-04-27T21:28:30.815609",
     "exception": false,
     "start_time": "2024-04-27T21:28:30.793210",
     "status": "completed"
    },
    "tags": []
   },
   "outputs": [
    {
     "data": {
      "text/plain": [
       "51"
      ]
     },
     "execution_count": 13,
     "metadata": {},
     "output_type": "execute_result"
    }
   ],
   "source": [
    "#Check for anomaly, where experience is less than 0 (can be seen from the descriptive statistic above)\n",
    "len(df[df['Experience'] < 0])"
   ]
  },
  {
   "cell_type": "markdown",
   "id": "7544b8b7",
   "metadata": {
    "papermill": {
     "duration": 0.011907,
     "end_time": "2024-04-27T21:28:30.840227",
     "exception": false,
     "start_time": "2024-04-27T21:28:30.828320",
     "status": "completed"
    },
    "tags": []
   },
   "source": [
    "#### There are 51 rows where \"Experience\" is below 0, we can drop the rows, but it is more preferable to absolute the value, so we don't lose any information from the whole row, since we have already dropped 41 rows before."
   ]
  },
  {
   "cell_type": "code",
   "execution_count": 14,
   "id": "87af1b9c",
   "metadata": {
    "execution": {
     "iopub.execute_input": "2024-04-27T21:28:30.947096Z",
     "iopub.status.busy": "2024-04-27T21:28:30.946755Z",
     "iopub.status.idle": "2024-04-27T21:28:30.984867Z",
     "shell.execute_reply": "2024-04-27T21:28:30.983586Z"
    },
    "papermill": {
     "duration": 0.134758,
     "end_time": "2024-04-27T21:28:30.986879",
     "exception": false,
     "start_time": "2024-04-27T21:28:30.852121",
     "status": "completed"
    },
    "tags": []
   },
   "outputs": [
    {
     "name": "stdout",
     "output_type": "stream",
     "text": [
      "Univariate outlier analysis :\n"
     ]
    },
    {
     "data": {
      "text/html": [
       "<div>\n",
       "<style scoped>\n",
       "    .dataframe tbody tr th:only-of-type {\n",
       "        vertical-align: middle;\n",
       "    }\n",
       "\n",
       "    .dataframe tbody tr th {\n",
       "        vertical-align: top;\n",
       "    }\n",
       "\n",
       "    .dataframe thead th {\n",
       "        text-align: right;\n",
       "    }\n",
       "</style>\n",
       "<table border=\"1\" class=\"dataframe\">\n",
       "  <thead>\n",
       "    <tr style=\"text-align: right;\">\n",
       "      <th></th>\n",
       "      <th>features</th>\n",
       "      <th>outlier count</th>\n",
       "    </tr>\n",
       "  </thead>\n",
       "  <tbody>\n",
       "    <tr>\n",
       "      <th>3</th>\n",
       "      <td>Income</td>\n",
       "      <td>96</td>\n",
       "    </tr>\n",
       "    <tr>\n",
       "      <th>6</th>\n",
       "      <td>CCAvg</td>\n",
       "      <td>320</td>\n",
       "    </tr>\n",
       "    <tr>\n",
       "      <th>8</th>\n",
       "      <td>Mortgage</td>\n",
       "      <td>289</td>\n",
       "    </tr>\n",
       "    <tr>\n",
       "      <th>9</th>\n",
       "      <td>Securities Account</td>\n",
       "      <td>516</td>\n",
       "    </tr>\n",
       "    <tr>\n",
       "      <th>10</th>\n",
       "      <td>CD Account</td>\n",
       "      <td>302</td>\n",
       "    </tr>\n",
       "  </tbody>\n",
       "</table>\n",
       "</div>"
      ],
      "text/plain": [
       "              features  outlier count\n",
       "3               Income             96\n",
       "6                CCAvg            320\n",
       "8             Mortgage            289\n",
       "9   Securities Account            516\n",
       "10          CD Account            302"
      ]
     },
     "execution_count": 14,
     "metadata": {},
     "output_type": "execute_result"
    }
   ],
   "source": [
    "#Univariate outlier analysis\n",
    "num_df = df.select_dtypes(include=['number'])\n",
    "target = num_df['Personal Loan']\n",
    "num_df.drop('Personal Loan', axis = 1, inplace = True)\n",
    "temp_dict = []\n",
    "\n",
    "for var in num_df:\n",
    "    q1 = num_df[var].quantile(0.25)\n",
    "    q3 = num_df[var].quantile(0.75)\n",
    "    iqr = q3-q1\n",
    "    \n",
    "    outliers = num_df[var][((num_df[var] < (q1 - iqr*1.5)) | (num_df[var] > (q3+1.5*iqr)))]\n",
    "    \n",
    "    outliers_dict = {'features' : var, 'outlier count' : len(outliers)}\n",
    "    temp_dict.append(outliers_dict)\n",
    "\n",
    "uni_outlier_df = pd.DataFrame.from_dict(temp_dict)\n",
    "print('Univariate outlier analysis :')\n",
    "uni_outlier_df = uni_outlier_df[uni_outlier_df['outlier count'] > 0]\n",
    "uni_outlier_df"
   ]
  },
  {
   "cell_type": "markdown",
   "id": "77e8994b",
   "metadata": {
    "papermill": {
     "duration": 0.012054,
     "end_time": "2024-04-27T21:28:31.011210",
     "exception": false,
     "start_time": "2024-04-27T21:28:30.999156",
     "status": "completed"
    },
    "tags": []
   },
   "source": [
    "#### Looks like we have 5 columns where outlier exists, lets try to plot \"Income\" to see how skewed the column is."
   ]
  },
  {
   "cell_type": "code",
   "execution_count": 15,
   "id": "6104fe1c",
   "metadata": {
    "execution": {
     "iopub.execute_input": "2024-04-27T21:28:31.037932Z",
     "iopub.status.busy": "2024-04-27T21:28:31.037553Z",
     "iopub.status.idle": "2024-04-27T21:28:31.313582Z",
     "shell.execute_reply": "2024-04-27T21:28:31.312163Z"
    },
    "papermill": {
     "duration": 0.292349,
     "end_time": "2024-04-27T21:28:31.315681",
     "exception": false,
     "start_time": "2024-04-27T21:28:31.023332",
     "status": "completed"
    },
    "tags": []
   },
   "outputs": [
    {
     "data": {
      "text/plain": [
       "<Axes: xlabel='Income', ylabel='Count'>"
      ]
     },
     "execution_count": 15,
     "metadata": {},
     "output_type": "execute_result"
    },
    {
     "data": {
      "image/png": "[encoded data removed]",
      "text/plain": [
       "<Figure size 640x480 with 1 Axes>"
      ]
     },
     "metadata": {},
     "output_type": "display_data"
    }
   ],
   "source": [
    "#Looking at \"Income\" col from the desc statistic above, it could be skewed, because the max is at 224, whie its mean value is at 73.\n",
    "sns.histplot(df['Income'])"
   ]
  },
  {
   "cell_type": "markdown",
   "id": "d61ff495",
   "metadata": {
    "papermill": {
     "duration": 0.012142,
     "end_time": "2024-04-27T21:28:31.340424",
     "exception": false,
     "start_time": "2024-04-27T21:28:31.328282",
     "status": "completed"
    },
    "tags": []
   },
   "source": [
    "#### As we can see \"Income\" is skewed right, to handle this and the other columns where outliers exists, we can use robust scaler later on."
   ]
  },
  {
   "cell_type": "code",
   "execution_count": 16,
   "id": "ae58676f",
   "metadata": {
    "execution": {
     "iopub.execute_input": "2024-04-27T21:28:31.367275Z",
     "iopub.status.busy": "2024-04-27T21:28:31.366494Z",
     "iopub.status.idle": "2024-04-27T21:28:31.376187Z",
     "shell.execute_reply": "2024-04-27T21:28:31.375348Z"
    },
    "papermill": {
     "duration": 0.02599,
     "end_time": "2024-04-27T21:28:31.378652",
     "exception": false,
     "start_time": "2024-04-27T21:28:31.352662",
     "status": "completed"
    },
    "tags": []
   },
   "outputs": [
    {
     "name": "stdout",
     "output_type": "stream",
     "text": [
      "Personal Loan         1.000000\n",
      "Income                0.503362\n",
      "CCAvg                 0.366079\n",
      "CD Account            0.317775\n",
      "Mortgage              0.141417\n",
      "Education             0.137745\n",
      "Family                0.060902\n",
      "Securities Account    0.023476\n",
      "Online                0.009466\n",
      "CreditCard            0.003226\n",
      "lon                  -0.002014\n",
      "ZIP Code             -0.002104\n",
      "Experience           -0.005789\n",
      "lat                  -0.005956\n",
      "Age                  -0.006165\n",
      "ID                   -0.023695\n",
      "Name: Personal Loan, dtype: float64\n"
     ]
    }
   ],
   "source": [
    "#do a simple correlation analysis to check how each variable correlates to the target variable.\n",
    "correlation_with_target = df.corr()['Personal Loan'].sort_values(ascending=False)\n",
    "\n",
    "print(correlation_with_target)"
   ]
  },
  {
   "cell_type": "markdown",
   "id": "b48c1b60",
   "metadata": {
    "papermill": {
     "duration": 0.011894,
     "end_time": "2024-04-27T21:28:31.403080",
     "exception": false,
     "start_time": "2024-04-27T21:28:31.391186",
     "status": "completed"
    },
    "tags": []
   },
   "source": [
    "#### From the result above, we can conclude that the y variable are more dependent \"Income\", \"CCAvg\", and \"CD Account\". few rows have little to no correlation to our y variable, but i won't be dropping it since this is an univariate analysis, there is a potential that if these columns are combined (bi-variate) it could lead to great correlation to the y variable."
   ]
  },
  {
   "cell_type": "code",
   "execution_count": 17,
   "id": "6c464f50",
   "metadata": {
    "execution": {
     "iopub.execute_input": "2024-04-27T21:28:31.429727Z",
     "iopub.status.busy": "2024-04-27T21:28:31.429041Z",
     "iopub.status.idle": "2024-04-27T21:28:31.568382Z",
     "shell.execute_reply": "2024-04-27T21:28:31.567493Z"
    },
    "papermill": {
     "duration": 0.155326,
     "end_time": "2024-04-27T21:28:31.570570",
     "exception": false,
     "start_time": "2024-04-27T21:28:31.415244",
     "status": "completed"
    },
    "tags": []
   },
   "outputs": [
    {
     "data": {
      "text/plain": [
       "<Axes: xlabel='Personal Loan', ylabel='count'>"
      ]
     },
     "execution_count": 17,
     "metadata": {},
     "output_type": "execute_result"
    },
    {
     "data": {
      "image/png": "[encoded data removed]",
      "text/plain": [
       "<Figure size 640x480 with 1 Axes>"
      ]
     },
     "metadata": {},
     "output_type": "display_data"
    }
   ],
   "source": [
    "#Lets' check the y variable to see if there is a class imbalance\n",
    "sns.countplot(x = df['Personal Loan'])"
   ]
  },
  {
   "cell_type": "markdown",
   "id": "d4ca2b45",
   "metadata": {
    "papermill": {
     "duration": 0.011943,
     "end_time": "2024-04-27T21:28:31.598197",
     "exception": false,
     "start_time": "2024-04-27T21:28:31.586254",
     "status": "completed"
    },
    "tags": []
   },
   "source": [
    "#### The countplot above shows that class '1' and '0' is imbalanced, i would use stratified sampling for this, but in this case, the class is severely imbalanced, so i decided to SMOTE and oversample the minority class(class 1) later on."
   ]
  },
  {
   "cell_type": "markdown",
   "id": "55d77e5b",
   "metadata": {
    "papermill": {
     "duration": 0.012084,
     "end_time": "2024-04-27T21:28:31.622393",
     "exception": false,
     "start_time": "2024-04-27T21:28:31.610309",
     "status": "completed"
    },
    "tags": []
   },
   "source": [
    "# Data Splitting"
   ]
  },
  {
   "cell_type": "code",
   "execution_count": 18,
   "id": "45a943ab",
   "metadata": {
    "execution": {
     "iopub.execute_input": "2024-04-27T21:28:31.649024Z",
     "iopub.status.busy": "2024-04-27T21:28:31.648612Z",
     "iopub.status.idle": "2024-04-27T21:28:31.656360Z",
     "shell.execute_reply": "2024-04-27T21:28:31.654765Z"
    },
    "papermill": {
     "duration": 0.023433,
     "end_time": "2024-04-27T21:28:31.658266",
     "exception": false,
     "start_time": "2024-04-27T21:28:31.634833",
     "status": "completed"
    },
    "tags": []
   },
   "outputs": [],
   "source": [
    "#Before splitting, lets drop unused columns\n",
    "df.drop(['ZIP Code','ID'], axis = 1, inplace = True)"
   ]
  },
  {
   "cell_type": "code",
   "execution_count": 19,
   "id": "967e5386",
   "metadata": {
    "execution": {
     "iopub.execute_input": "2024-04-27T21:28:31.686541Z",
     "iopub.status.busy": "2024-04-27T21:28:31.686136Z",
     "iopub.status.idle": "2024-04-27T21:28:31.700244Z",
     "shell.execute_reply": "2024-04-27T21:28:31.698326Z"
    },
    "papermill": {
     "duration": 0.030616,
     "end_time": "2024-04-27T21:28:31.702466",
     "exception": false,
     "start_time": "2024-04-27T21:28:31.671850",
     "status": "completed"
    },
    "tags": []
   },
   "outputs": [],
   "source": [
    "#defining X(columns beside target column) and y(target column)\n",
    "X = df.drop('Personal Loan',axis = 1)\n",
    "y = df[['Personal Loan']]\n",
    "#Splitting into train & test\n",
    "x_train, x_test, y_train, y_test = train_test_split(X, y, test_size = 0.2)\n",
    "\n",
    "#Splitting test set into test & validation set\n",
    "x_valid, x_test, y_valid, y_test = train_test_split(x_test,y_test, test_size = 0.5)"
   ]
  },
  {
   "cell_type": "markdown",
   "id": "953b609f",
   "metadata": {
    "papermill": {
     "duration": 0.011585,
     "end_time": "2024-04-27T21:28:31.726591",
     "exception": false,
     "start_time": "2024-04-27T21:28:31.715006",
     "status": "completed"
    },
    "tags": []
   },
   "source": [
    "#### Recap of all the problems so far"
   ]
  },
  {
   "cell_type": "markdown",
   "id": "0819144e",
   "metadata": {
    "papermill": {
     "duration": 0.011749,
     "end_time": "2024-04-27T21:28:31.750251",
     "exception": false,
     "start_time": "2024-04-27T21:28:31.738502",
     "status": "completed"
    },
    "tags": []
   },
   "source": [
    "#### 1. we need to robust scale our data, since we have lots of outliers\n",
    "#### 2. we need to oversample class 1, since it is severly lower than class 0 in total. \n",
    "#### 3. we need to absolute the value in \"Experience\", since it is logically impossible to have experience lower than 0\n",
    "#### 4. we have dropped a few missing longitude and latitude, assuming it is an error from the library that we used."
   ]
  },
  {
   "cell_type": "code",
   "execution_count": 20,
   "id": "9c0ca31c",
   "metadata": {
    "execution": {
     "iopub.execute_input": "2024-04-27T21:28:31.777026Z",
     "iopub.status.busy": "2024-04-27T21:28:31.776357Z",
     "iopub.status.idle": "2024-04-27T21:28:31.782142Z",
     "shell.execute_reply": "2024-04-27T21:28:31.781390Z"
    },
    "papermill": {
     "duration": 0.021139,
     "end_time": "2024-04-27T21:28:31.783672",
     "exception": false,
     "start_time": "2024-04-27T21:28:31.762533",
     "status": "completed"
    },
    "tags": []
   },
   "outputs": [],
   "source": [
    "#absolutting the experience column in all of our sets\n",
    "x_train.Experience = x_train.Experience.abs()\n",
    "x_test.Experience = x_test.Experience.abs()\n",
    "x_valid.Experience = x_valid.Experience.abs()"
   ]
  },
  {
   "cell_type": "markdown",
   "id": "0cec1484",
   "metadata": {
    "papermill": {
     "duration": 0.012447,
     "end_time": "2024-04-27T21:28:31.809336",
     "exception": false,
     "start_time": "2024-04-27T21:28:31.796889",
     "status": "completed"
    },
    "tags": []
   },
   "source": [
    "#### I will oversample the minority class first, before scaling the dataset, because our y variable is severely imbalanced."
   ]
  },
  {
   "cell_type": "code",
   "execution_count": 21,
   "id": "d0f6b1ad",
   "metadata": {
    "execution": {
     "iopub.execute_input": "2024-04-27T21:28:31.837260Z",
     "iopub.status.busy": "2024-04-27T21:28:31.836398Z",
     "iopub.status.idle": "2024-04-27T21:28:31.858373Z",
     "shell.execute_reply": "2024-04-27T21:28:31.857365Z"
    },
    "papermill": {
     "duration": 0.038416,
     "end_time": "2024-04-27T21:28:31.860567",
     "exception": false,
     "start_time": "2024-04-27T21:28:31.822151",
     "status": "completed"
    },
    "tags": []
   },
   "outputs": [],
   "source": [
    "#oversampling the minority class\n",
    "sm = SMOTE(random_state = 42)\n",
    "x_train, y_train = sm.fit_resample(x_train, y_train)"
   ]
  },
  {
   "cell_type": "code",
   "execution_count": 22,
   "id": "c5490960",
   "metadata": {
    "execution": {
     "iopub.execute_input": "2024-04-27T21:28:31.887766Z",
     "iopub.status.busy": "2024-04-27T21:28:31.886892Z",
     "iopub.status.idle": "2024-04-27T21:28:31.894475Z",
     "shell.execute_reply": "2024-04-27T21:28:31.893604Z"
    },
    "papermill": {
     "duration": 0.023471,
     "end_time": "2024-04-27T21:28:31.896536",
     "exception": false,
     "start_time": "2024-04-27T21:28:31.873065",
     "status": "completed"
    },
    "tags": []
   },
   "outputs": [
    {
     "name": "stdout",
     "output_type": "stream",
     "text": [
      "Sum of class 1: 7156\n",
      "Sum of class 0: 7156\n"
     ]
    }
   ],
   "source": [
    "print(f\"Sum of class 1: {len(y_train[y_train == 1])}\")\n",
    "print(f\"Sum of class 0: {len(y_train[y_train == 0])}\")"
   ]
  },
  {
   "cell_type": "code",
   "execution_count": 23,
   "id": "831a312d",
   "metadata": {
    "execution": {
     "iopub.execute_input": "2024-04-27T21:28:31.924702Z",
     "iopub.status.busy": "2024-04-27T21:28:31.924000Z",
     "iopub.status.idle": "2024-04-27T21:28:31.929983Z",
     "shell.execute_reply": "2024-04-27T21:28:31.928917Z"
    },
    "papermill": {
     "duration": 0.022537,
     "end_time": "2024-04-27T21:28:31.931623",
     "exception": false,
     "start_time": "2024-04-27T21:28:31.909086",
     "status": "completed"
    },
    "tags": []
   },
   "outputs": [
    {
     "data": {
      "text/plain": [
       "pandas.core.series.Series"
      ]
     },
     "execution_count": 23,
     "metadata": {},
     "output_type": "execute_result"
    }
   ],
   "source": [
    "#turn y_train back to Series type, after it shifting to array after SMOTE\n",
    "type(y_train['Personal Loan'])"
   ]
  },
  {
   "cell_type": "markdown",
   "id": "1e3db236",
   "metadata": {
    "papermill": {
     "duration": 0.012975,
     "end_time": "2024-04-27T21:28:31.958683",
     "exception": false,
     "start_time": "2024-04-27T21:28:31.945708",
     "status": "completed"
    },
    "tags": []
   },
   "source": [
    "#### Now the class is balanced! we can proceed to scaling our data"
   ]
  },
  {
   "cell_type": "code",
   "execution_count": 24,
   "id": "2e778e7c",
   "metadata": {
    "execution": {
     "iopub.execute_input": "2024-04-27T21:28:31.987233Z",
     "iopub.status.busy": "2024-04-27T21:28:31.986680Z",
     "iopub.status.idle": "2024-04-27T21:28:32.013005Z",
     "shell.execute_reply": "2024-04-27T21:28:32.012154Z"
    },
    "papermill": {
     "duration": 0.043233,
     "end_time": "2024-04-27T21:28:32.015127",
     "exception": false,
     "start_time": "2024-04-27T21:28:31.971894",
     "status": "completed"
    },
    "tags": []
   },
   "outputs": [
    {
     "data": {
      "text/html": [
       "<div>\n",
       "<style scoped>\n",
       "    .dataframe tbody tr th:only-of-type {\n",
       "        vertical-align: middle;\n",
       "    }\n",
       "\n",
       "    .dataframe tbody tr th {\n",
       "        vertical-align: top;\n",
       "    }\n",
       "\n",
       "    .dataframe thead th {\n",
       "        text-align: right;\n",
       "    }\n",
       "</style>\n",
       "<table border=\"1\" class=\"dataframe\">\n",
       "  <thead>\n",
       "    <tr style=\"text-align: right;\">\n",
       "      <th></th>\n",
       "      <th>Age</th>\n",
       "      <th>Experience</th>\n",
       "      <th>Income</th>\n",
       "      <th>Family</th>\n",
       "      <th>CCAvg</th>\n",
       "      <th>Education</th>\n",
       "      <th>Mortgage</th>\n",
       "      <th>Securities Account</th>\n",
       "      <th>CD Account</th>\n",
       "      <th>Online</th>\n",
       "      <th>CreditCard</th>\n",
       "      <th>lat</th>\n",
       "      <th>lon</th>\n",
       "    </tr>\n",
       "  </thead>\n",
       "  <tbody>\n",
       "    <tr>\n",
       "      <th>0</th>\n",
       "      <td>-0.947368</td>\n",
       "      <td>-1.052632</td>\n",
       "      <td>-0.765957</td>\n",
       "      <td>-0.5</td>\n",
       "      <td>-0.164754</td>\n",
       "      <td>0.0</td>\n",
       "      <td>0.924370</td>\n",
       "      <td>0.0</td>\n",
       "      <td>0.0</td>\n",
       "      <td>0.0</td>\n",
       "      <td>1.0</td>\n",
       "      <td>-0.389778</td>\n",
       "      <td>0.416500</td>\n",
       "    </tr>\n",
       "    <tr>\n",
       "      <th>1</th>\n",
       "      <td>-0.631579</td>\n",
       "      <td>-0.684211</td>\n",
       "      <td>-0.127660</td>\n",
       "      <td>-0.5</td>\n",
       "      <td>0.065977</td>\n",
       "      <td>0.0</td>\n",
       "      <td>1.058824</td>\n",
       "      <td>0.0</td>\n",
       "      <td>0.0</td>\n",
       "      <td>1.0</td>\n",
       "      <td>0.0</td>\n",
       "      <td>0.539567</td>\n",
       "      <td>-0.597897</td>\n",
       "    </tr>\n",
       "    <tr>\n",
       "      <th>2</th>\n",
       "      <td>-0.526316</td>\n",
       "      <td>-0.578947</td>\n",
       "      <td>0.308511</td>\n",
       "      <td>0.0</td>\n",
       "      <td>0.659285</td>\n",
       "      <td>0.0</td>\n",
       "      <td>0.000000</td>\n",
       "      <td>0.0</td>\n",
       "      <td>0.0</td>\n",
       "      <td>0.0</td>\n",
       "      <td>0.0</td>\n",
       "      <td>-0.309704</td>\n",
       "      <td>0.161921</td>\n",
       "    </tr>\n",
       "    <tr>\n",
       "      <th>3</th>\n",
       "      <td>-0.947368</td>\n",
       "      <td>-0.894737</td>\n",
       "      <td>-0.031915</td>\n",
       "      <td>0.0</td>\n",
       "      <td>0.000054</td>\n",
       "      <td>-1.0</td>\n",
       "      <td>0.000000</td>\n",
       "      <td>0.0</td>\n",
       "      <td>0.0</td>\n",
       "      <td>1.0</td>\n",
       "      <td>0.0</td>\n",
       "      <td>-0.297654</td>\n",
       "      <td>0.172891</td>\n",
       "    </tr>\n",
       "    <tr>\n",
       "      <th>4</th>\n",
       "      <td>0.105263</td>\n",
       "      <td>0.052632</td>\n",
       "      <td>-0.670213</td>\n",
       "      <td>0.5</td>\n",
       "      <td>-0.098831</td>\n",
       "      <td>0.0</td>\n",
       "      <td>0.000000</td>\n",
       "      <td>1.0</td>\n",
       "      <td>0.0</td>\n",
       "      <td>0.0</td>\n",
       "      <td>0.0</td>\n",
       "      <td>-0.781283</td>\n",
       "      <td>0.725141</td>\n",
       "    </tr>\n",
       "  </tbody>\n",
       "</table>\n",
       "</div>"
      ],
      "text/plain": [
       "        Age  Experience    Income  Family     CCAvg  Education  Mortgage  \\\n",
       "0 -0.947368   -1.052632 -0.765957    -0.5 -0.164754        0.0  0.924370   \n",
       "1 -0.631579   -0.684211 -0.127660    -0.5  0.065977        0.0  1.058824   \n",
       "2 -0.526316   -0.578947  0.308511     0.0  0.659285        0.0  0.000000   \n",
       "3 -0.947368   -0.894737 -0.031915     0.0  0.000054       -1.0  0.000000   \n",
       "4  0.105263    0.052632 -0.670213     0.5 -0.098831        0.0  0.000000   \n",
       "\n",
       "   Securities Account  CD Account  Online  CreditCard       lat       lon  \n",
       "0                 0.0         0.0     0.0         1.0 -0.389778  0.416500  \n",
       "1                 0.0         0.0     1.0         0.0  0.539567 -0.597897  \n",
       "2                 0.0         0.0     0.0         0.0 -0.309704  0.161921  \n",
       "3                 0.0         0.0     1.0         0.0 -0.297654  0.172891  \n",
       "4                 1.0         0.0     0.0         0.0 -0.781283  0.725141  "
      ]
     },
     "execution_count": 24,
     "metadata": {},
     "output_type": "execute_result"
    }
   ],
   "source": [
    "#scaling train set predictors using Robust Scaler\n",
    "scaler = RobustScaler()\n",
    "cols = x_train.columns\n",
    "x_train = pd.DataFrame(scaler.fit_transform(x_train), columns = cols)\n",
    "x_train.head()"
   ]
  },
  {
   "cell_type": "code",
   "execution_count": 25,
   "id": "151d32d6",
   "metadata": {
    "execution": {
     "iopub.execute_input": "2024-04-27T21:28:32.044898Z",
     "iopub.status.busy": "2024-04-27T21:28:32.043492Z",
     "iopub.status.idle": "2024-04-27T21:28:32.057571Z",
     "shell.execute_reply": "2024-04-27T21:28:32.055742Z"
    },
    "papermill": {
     "duration": 0.032099,
     "end_time": "2024-04-27T21:28:32.060272",
     "exception": false,
     "start_time": "2024-04-27T21:28:32.028173",
     "status": "completed"
    },
    "tags": []
   },
   "outputs": [],
   "source": [
    "#scaling the rest of the predictors set using Robust Scaler\n",
    "x_test = pd.DataFrame(scaler.transform(x_test), columns = cols)\n",
    "x_valid = pd.DataFrame(scaler.transform(x_valid), columns = cols)"
   ]
  },
  {
   "cell_type": "code",
   "execution_count": 26,
   "id": "d9095ff5",
   "metadata": {
    "execution": {
     "iopub.execute_input": "2024-04-27T21:28:32.089297Z",
     "iopub.status.busy": "2024-04-27T21:28:32.088661Z",
     "iopub.status.idle": "2024-04-27T21:28:32.191195Z",
     "shell.execute_reply": "2024-04-27T21:28:32.189333Z"
    },
    "papermill": {
     "duration": 0.119342,
     "end_time": "2024-04-27T21:28:32.193584",
     "exception": false,
     "start_time": "2024-04-27T21:28:32.074242",
     "status": "completed"
    },
    "tags": []
   },
   "outputs": [
    {
     "data": {
      "text/html": [
       "<pre style=\"white-space:pre;overflow-x:auto;line-height:normal;font-family:Menlo,'DejaVu Sans Mono',consolas,'Courier New',monospace\"><span style=\"font-weight: bold\">Model: \"sequential\"</span>\n",
       "</pre>\n"
      ],
      "text/plain": [
       "\u001b[1mModel: \"sequential\"\u001b[0m\n"
      ]
     },
     "metadata": {},
     "output_type": "display_data"
    },
    {
     "data": {
      "text/html": [
       "<pre style=\"white-space:pre;overflow-x:auto;line-height:normal;font-family:Menlo,'DejaVu Sans Mono',consolas,'Courier New',monospace\">┏━━━━━━━━━━━━━━━━━━━━━━━━━━━━━━━━━┳━━━━━━━━━━━━━━━━━━━━━━━━┳━━━━━━━━━━━━━━━┓\n",
       "┃<span style=\"font-weight: bold\"> Layer (type)                    </span>┃<span style=\"font-weight: bold\"> Output Shape           </span>┃<span style=\"font-weight: bold\">       Param # </span>┃\n",
       "┡━━━━━━━━━━━━━━━━━━━━━━━━━━━━━━━━━╇━━━━━━━━━━━━━━━━━━━━━━━━╇━━━━━━━━━━━━━━━┩\n",
       "│ dense (<span style=\"color: #0087ff; text-decoration-color: #0087ff\">Dense</span>)                   │ (<span style=\"color: #00d7ff; text-decoration-color: #00d7ff\">None</span>, <span style=\"color: #00af00; text-decoration-color: #00af00\">26</span>)             │           <span style=\"color: #00af00; text-decoration-color: #00af00\">364</span> │\n",
       "├─────────────────────────────────┼────────────────────────┼───────────────┤\n",
       "│ dense_1 (<span style=\"color: #0087ff; text-decoration-color: #0087ff\">Dense</span>)                 │ (<span style=\"color: #00d7ff; text-decoration-color: #00d7ff\">None</span>, <span style=\"color: #00af00; text-decoration-color: #00af00\">26</span>)             │           <span style=\"color: #00af00; text-decoration-color: #00af00\">702</span> │\n",
       "├─────────────────────────────────┼────────────────────────┼───────────────┤\n",
       "│ dense_2 (<span style=\"color: #0087ff; text-decoration-color: #0087ff\">Dense</span>)                 │ (<span style=\"color: #00d7ff; text-decoration-color: #00d7ff\">None</span>, <span style=\"color: #00af00; text-decoration-color: #00af00\">2</span>)              │            <span style=\"color: #00af00; text-decoration-color: #00af00\">54</span> │\n",
       "└─────────────────────────────────┴────────────────────────┴───────────────┘\n",
       "</pre>\n"
      ],
      "text/plain": [
       "┏━━━━━━━━━━━━━━━━━━━━━━━━━━━━━━━━━┳━━━━━━━━━━━━━━━━━━━━━━━━┳━━━━━━━━━━━━━━━┓\n",
       "┃\u001b[1m \u001b[0m\u001b[1mLayer (type)                   \u001b[0m\u001b[1m \u001b[0m┃\u001b[1m \u001b[0m\u001b[1mOutput Shape          \u001b[0m\u001b[1m \u001b[0m┃\u001b[1m \u001b[0m\u001b[1m      Param #\u001b[0m\u001b[1m \u001b[0m┃\n",
       "┡━━━━━━━━━━━━━━━━━━━━━━━━━━━━━━━━━╇━━━━━━━━━━━━━━━━━━━━━━━━╇━━━━━━━━━━━━━━━┩\n",
       "│ dense (\u001b[38;5;33mDense\u001b[0m)                   │ (\u001b[38;5;45mNone\u001b[0m, \u001b[38;5;34m26\u001b[0m)             │           \u001b[38;5;34m364\u001b[0m │\n",
       "├─────────────────────────────────┼────────────────────────┼───────────────┤\n",
       "│ dense_1 (\u001b[38;5;33mDense\u001b[0m)                 │ (\u001b[38;5;45mNone\u001b[0m, \u001b[38;5;34m26\u001b[0m)             │           \u001b[38;5;34m702\u001b[0m │\n",
       "├─────────────────────────────────┼────────────────────────┼───────────────┤\n",
       "│ dense_2 (\u001b[38;5;33mDense\u001b[0m)                 │ (\u001b[38;5;45mNone\u001b[0m, \u001b[38;5;34m2\u001b[0m)              │            \u001b[38;5;34m54\u001b[0m │\n",
       "└─────────────────────────────────┴────────────────────────┴───────────────┘\n"
      ]
     },
     "metadata": {},
     "output_type": "display_data"
    },
    {
     "data": {
      "text/html": [
       "<pre style=\"white-space:pre;overflow-x:auto;line-height:normal;font-family:Menlo,'DejaVu Sans Mono',consolas,'Courier New',monospace\"><span style=\"font-weight: bold\"> Total params: </span><span style=\"color: #00af00; text-decoration-color: #00af00\">1,120</span> (4.38 KB)\n",
       "</pre>\n"
      ],
      "text/plain": [
       "\u001b[1m Total params: \u001b[0m\u001b[38;5;34m1,120\u001b[0m (4.38 KB)\n"
      ]
     },
     "metadata": {},
     "output_type": "display_data"
    },
    {
     "data": {
      "text/html": [
       "<pre style=\"white-space:pre;overflow-x:auto;line-height:normal;font-family:Menlo,'DejaVu Sans Mono',consolas,'Courier New',monospace\"><span style=\"font-weight: bold\"> Trainable params: </span><span style=\"color: #00af00; text-decoration-color: #00af00\">1,120</span> (4.38 KB)\n",
       "</pre>\n"
      ],
      "text/plain": [
       "\u001b[1m Trainable params: \u001b[0m\u001b[38;5;34m1,120\u001b[0m (4.38 KB)\n"
      ]
     },
     "metadata": {},
     "output_type": "display_data"
    },
    {
     "data": {
      "text/html": [
       "<pre style=\"white-space:pre;overflow-x:auto;line-height:normal;font-family:Menlo,'DejaVu Sans Mono',consolas,'Courier New',monospace\"><span style=\"font-weight: bold\"> Non-trainable params: </span><span style=\"color: #00af00; text-decoration-color: #00af00\">0</span> (0.00 B)\n",
       "</pre>\n"
      ],
      "text/plain": [
       "\u001b[1m Non-trainable params: \u001b[0m\u001b[38;5;34m0\u001b[0m (0.00 B)\n"
      ]
     },
     "metadata": {},
     "output_type": "display_data"
    }
   ],
   "source": [
    "#creating a base line model which contains (n, 2*n, 2*n, num_class)\n",
    "def create_baseline_model(n, num_class):\n",
    "    model = tf.keras.Sequential([\n",
    "        tf.keras.layers.Dense(2 * n, activation='relu', input_shape=(n,)),\n",
    "        tf.keras.layers.Dense(2 * n, activation='relu'),\n",
    "        tf.keras.layers.Dense(num_class, activation='softmax')\n",
    "    ])\n",
    "    return model\n",
    "\n",
    "n = 13  \n",
    "num_class = 2 \n",
    "\n",
    "#initialize model\n",
    "baseline_model = create_baseline_model(n, num_class)\n",
    "baseline_model.summary()"
   ]
  },
  {
   "cell_type": "code",
   "execution_count": 27,
   "id": "9e866f9e",
   "metadata": {
    "execution": {
     "iopub.execute_input": "2024-04-27T21:28:32.225235Z",
     "iopub.status.busy": "2024-04-27T21:28:32.224828Z",
     "iopub.status.idle": "2024-04-27T21:28:32.233390Z",
     "shell.execute_reply": "2024-04-27T21:28:32.231991Z"
    },
    "papermill": {
     "duration": 0.026982,
     "end_time": "2024-04-27T21:28:32.236143",
     "exception": false,
     "start_time": "2024-04-27T21:28:32.209161",
     "status": "completed"
    },
    "tags": []
   },
   "outputs": [],
   "source": [
    "#Since we have 2 output layers, but this is a multiclass problem, we need to one hot the y set first so we do not encounter any error\n",
    "y_train_one_hot = np.eye(num_class)[y_train.squeeze()]\n",
    "y_valid_one_hot = np.eye(num_class)[y_valid.squeeze()]\n",
    "y_test_one_hot = np.eye(num_class)[y_test.squeeze()]"
   ]
  },
  {
   "cell_type": "code",
   "execution_count": 28,
   "id": "a273854b",
   "metadata": {
    "execution": {
     "iopub.execute_input": "2024-04-27T21:28:32.267284Z",
     "iopub.status.busy": "2024-04-27T21:28:32.266917Z",
     "iopub.status.idle": "2024-04-27T21:28:32.279990Z",
     "shell.execute_reply": "2024-04-27T21:28:32.278745Z"
    },
    "papermill": {
     "duration": 0.033098,
     "end_time": "2024-04-27T21:28:32.284313",
     "exception": false,
     "start_time": "2024-04-27T21:28:32.251215",
     "status": "completed"
    },
    "tags": []
   },
   "outputs": [],
   "source": [
    "#compile the model using binary_crossentropy loss, since it is suitable for binary classification problems.\n",
    "baseline_model.compile(loss = 'binary_crossentropy', optimizer='adam', metrics=['accuracy'])"
   ]
  },
  {
   "cell_type": "code",
   "execution_count": 29,
   "id": "f20976da",
   "metadata": {
    "execution": {
     "iopub.execute_input": "2024-04-27T21:28:32.317026Z",
     "iopub.status.busy": "2024-04-27T21:28:32.316627Z",
     "iopub.status.idle": "2024-04-27T21:28:32.322283Z",
     "shell.execute_reply": "2024-04-27T21:28:32.320775Z"
    },
    "papermill": {
     "duration": 0.024367,
     "end_time": "2024-04-27T21:28:32.324357",
     "exception": false,
     "start_time": "2024-04-27T21:28:32.299990",
     "status": "completed"
    },
    "tags": []
   },
   "outputs": [],
   "source": [
    "#implement early stopping to efficiently knows when our model need to be stopped at its' best rate\n",
    "es = EarlyStopping(patience = 10, restore_best_weights = True, mode = 'max')"
   ]
  },
  {
   "cell_type": "code",
   "execution_count": 30,
   "id": "6f228968",
   "metadata": {
    "execution": {
     "iopub.execute_input": "2024-04-27T21:28:32.356541Z",
     "iopub.status.busy": "2024-04-27T21:28:32.356101Z",
     "iopub.status.idle": "2024-04-27T21:28:39.929651Z",
     "shell.execute_reply": "2024-04-27T21:28:39.928688Z"
    },
    "papermill": {
     "duration": 7.591928,
     "end_time": "2024-04-27T21:28:39.931703",
     "exception": false,
     "start_time": "2024-04-27T21:28:32.339775",
     "status": "completed"
    },
    "tags": []
   },
   "outputs": [
    {
     "name": "stdout",
     "output_type": "stream",
     "text": [
      "Epoch 1/100\n",
      "\u001b[1m224/224\u001b[0m \u001b[32m━━━━━━━━━━━━━━━━━━━━\u001b[0m\u001b[37m\u001b[0m \u001b[1m2s\u001b[0m 3ms/step - accuracy: 0.7093 - loss: 0.5683 - val_accuracy: 0.8831 - val_loss: 0.2898\n",
      "Epoch 2/100\n",
      "\u001b[1m224/224\u001b[0m \u001b[32m━━━━━━━━━━━━━━━━━━━━\u001b[0m\u001b[37m\u001b[0m \u001b[1m0s\u001b[0m 2ms/step - accuracy: 0.9092 - loss: 0.2380 - val_accuracy: 0.9153 - val_loss: 0.1870\n",
      "Epoch 3/100\n",
      "\u001b[1m224/224\u001b[0m \u001b[32m━━━━━━━━━━━━━━━━━━━━\u001b[0m\u001b[37m\u001b[0m \u001b[1m1s\u001b[0m 2ms/step - accuracy: 0.9252 - loss: 0.1753 - val_accuracy: 0.9214 - val_loss: 0.1657\n",
      "Epoch 4/100\n",
      "\u001b[1m224/224\u001b[0m \u001b[32m━━━━━━━━━━━━━━━━━━━━\u001b[0m\u001b[37m\u001b[0m \u001b[1m1s\u001b[0m 2ms/step - accuracy: 0.9385 - loss: 0.1441 - val_accuracy: 0.9456 - val_loss: 0.1408\n",
      "Epoch 5/100\n",
      "\u001b[1m224/224\u001b[0m \u001b[32m━━━━━━━━━━━━━━━━━━━━\u001b[0m\u001b[37m\u001b[0m \u001b[1m0s\u001b[0m 2ms/step - accuracy: 0.9490 - loss: 0.1246 - val_accuracy: 0.9415 - val_loss: 0.1378\n",
      "Epoch 6/100\n",
      "\u001b[1m224/224\u001b[0m \u001b[32m━━━━━━━━━━━━━━━━━━━━\u001b[0m\u001b[37m\u001b[0m \u001b[1m1s\u001b[0m 2ms/step - accuracy: 0.9551 - loss: 0.1126 - val_accuracy: 0.9577 - val_loss: 0.1068\n",
      "Epoch 7/100\n",
      "\u001b[1m224/224\u001b[0m \u001b[32m━━━━━━━━━━━━━━━━━━━━\u001b[0m\u001b[37m\u001b[0m \u001b[1m1s\u001b[0m 2ms/step - accuracy: 0.9529 - loss: 0.1069 - val_accuracy: 0.9476 - val_loss: 0.1206\n",
      "Epoch 8/100\n",
      "\u001b[1m224/224\u001b[0m \u001b[32m━━━━━━━━━━━━━━━━━━━━\u001b[0m\u001b[37m\u001b[0m \u001b[1m1s\u001b[0m 2ms/step - accuracy: 0.9573 - loss: 0.1056 - val_accuracy: 0.9375 - val_loss: 0.1232\n",
      "Epoch 9/100\n",
      "\u001b[1m224/224\u001b[0m \u001b[32m━━━━━━━━━━━━━━━━━━━━\u001b[0m\u001b[37m\u001b[0m \u001b[1m1s\u001b[0m 2ms/step - accuracy: 0.9550 - loss: 0.1030 - val_accuracy: 0.9476 - val_loss: 0.1192\n",
      "Epoch 10/100\n",
      "\u001b[1m224/224\u001b[0m \u001b[32m━━━━━━━━━━━━━━━━━━━━\u001b[0m\u001b[37m\u001b[0m \u001b[1m1s\u001b[0m 2ms/step - accuracy: 0.9620 - loss: 0.0926 - val_accuracy: 0.9516 - val_loss: 0.1252\n",
      "Epoch 11/100\n",
      "\u001b[1m224/224\u001b[0m \u001b[32m━━━━━━━━━━━━━━━━━━━━\u001b[0m\u001b[37m\u001b[0m \u001b[1m1s\u001b[0m 2ms/step - accuracy: 0.9595 - loss: 0.0961 - val_accuracy: 0.9617 - val_loss: 0.1026\n"
     ]
    }
   ],
   "source": [
    "#fit and train the model to the train set and validation set\n",
    "history = baseline_model.fit(x_train, y_train_one_hot, epochs=100, validation_data=(x_valid, y_valid_one_hot), callbacks=[es])"
   ]
  },
  {
   "cell_type": "code",
   "execution_count": 31,
   "id": "0c7aa798",
   "metadata": {
    "execution": {
     "iopub.execute_input": "2024-04-27T21:28:39.975376Z",
     "iopub.status.busy": "2024-04-27T21:28:39.974965Z",
     "iopub.status.idle": "2024-04-27T21:28:40.190310Z",
     "shell.execute_reply": "2024-04-27T21:28:40.189026Z"
    },
    "papermill": {
     "duration": 0.239845,
     "end_time": "2024-04-27T21:28:40.192524",
     "exception": false,
     "start_time": "2024-04-27T21:28:39.952679",
     "status": "completed"
    },
    "tags": []
   },
   "outputs": [
    {
     "name": "stdout",
     "output_type": "stream",
     "text": [
      "\u001b[1m16/16\u001b[0m \u001b[32m━━━━━━━━━━━━━━━━━━━━\u001b[0m\u001b[37m\u001b[0m \u001b[1m0s\u001b[0m 4ms/step\n",
      "Accuracy: 0.8487903225806451\n",
      "Precision: 0.9212677229339922\n",
      "Recall: 0.8487903225806451\n",
      "F1 Score: 0.8734229164505228\n"
     ]
    }
   ],
   "source": [
    "# Predict probabilities for each class for the test set\n",
    "predicted_probabilities = baseline_model.predict(x_test)\n",
    "\n",
    "from sklearn.metrics import accuracy_score, precision_score, recall_score, f1_score\n",
    "\n",
    "#use np.argmax to find the highest probability and assign it as our predicted label.\n",
    "predicted_classes = np.argmax(predicted_probabilities, axis=1)\n",
    "\n",
    "# evaluation metrics\n",
    "accuracy = accuracy_score(y_test, predicted_classes)\n",
    "precision = precision_score(y_test, predicted_classes, average='weighted')\n",
    "recall = recall_score(y_test, predicted_classes, average='weighted')\n",
    "f1 = f1_score(y_test, predicted_classes, average='weighted')\n",
    "\n",
    "# Print evaluation\n",
    "print(\"Accuracy:\", accuracy)\n",
    "print(\"Precision:\", precision)\n",
    "print(\"Recall:\", recall)\n",
    "print(\"F1 Score:\", f1)"
   ]
  },
  {
   "cell_type": "markdown",
   "id": "253bad8e",
   "metadata": {
    "papermill": {
     "duration": 0.02171,
     "end_time": "2024-04-27T21:28:40.234872",
     "exception": false,
     "start_time": "2024-04-27T21:28:40.213162",
     "status": "completed"
    },
    "tags": []
   },
   "source": [
    "#### The model generates a good result overall, with precision as it's strongest evaluation score, which mean our model are good at predicting true positives. and the F1 score shows a good result which indicates a good balance between precision and recall."
   ]
  },
  {
   "cell_type": "code",
   "execution_count": 32,
   "id": "8fed4731",
   "metadata": {
    "execution": {
     "iopub.execute_input": "2024-04-27T21:28:40.280776Z",
     "iopub.status.busy": "2024-04-27T21:28:40.280390Z",
     "iopub.status.idle": "2024-04-27T21:28:40.522949Z",
     "shell.execute_reply": "2024-04-27T21:28:40.522026Z"
    },
    "papermill": {
     "duration": 0.26734,
     "end_time": "2024-04-27T21:28:40.524802",
     "exception": false,
     "start_time": "2024-04-27T21:28:40.257462",
     "status": "completed"
    },
    "tags": []
   },
   "outputs": [],
   "source": [
    "#reset session to create a new modified model.\n",
    "tf.keras.backend.clear_session()"
   ]
  },
  {
   "cell_type": "markdown",
   "id": "5f5c7357",
   "metadata": {
    "papermill": {
     "duration": 0.020933,
     "end_time": "2024-04-27T21:28:40.567576",
     "exception": false,
     "start_time": "2024-04-27T21:28:40.546643",
     "status": "completed"
    },
    "tags": []
   },
   "source": [
    "# Model Modificattion "
   ]
  },
  {
   "cell_type": "code",
   "execution_count": 33,
   "id": "eec2a929",
   "metadata": {
    "execution": {
     "iopub.execute_input": "2024-04-27T21:28:40.611916Z",
     "iopub.status.busy": "2024-04-27T21:28:40.611490Z",
     "iopub.status.idle": "2024-04-27T21:28:40.680377Z",
     "shell.execute_reply": "2024-04-27T21:28:40.679132Z"
    },
    "papermill": {
     "duration": 0.094229,
     "end_time": "2024-04-27T21:28:40.683167",
     "exception": false,
     "start_time": "2024-04-27T21:28:40.588938",
     "status": "completed"
    },
    "tags": []
   },
   "outputs": [
    {
     "data": {
      "text/html": [
       "<pre style=\"white-space:pre;overflow-x:auto;line-height:normal;font-family:Menlo,'DejaVu Sans Mono',consolas,'Courier New',monospace\"><span style=\"font-weight: bold\">Model: \"sequential\"</span>\n",
       "</pre>\n"
      ],
      "text/plain": [
       "\u001b[1mModel: \"sequential\"\u001b[0m\n"
      ]
     },
     "metadata": {},
     "output_type": "display_data"
    },
    {
     "data": {
      "text/html": [
       "<pre style=\"white-space:pre;overflow-x:auto;line-height:normal;font-family:Menlo,'DejaVu Sans Mono',consolas,'Courier New',monospace\">┏━━━━━━━━━━━━━━━━━━━━━━━━━━━━━━━━━┳━━━━━━━━━━━━━━━━━━━━━━━━┳━━━━━━━━━━━━━━━┓\n",
       "┃<span style=\"font-weight: bold\"> Layer (type)                    </span>┃<span style=\"font-weight: bold\"> Output Shape           </span>┃<span style=\"font-weight: bold\">       Param # </span>┃\n",
       "┡━━━━━━━━━━━━━━━━━━━━━━━━━━━━━━━━━╇━━━━━━━━━━━━━━━━━━━━━━━━╇━━━━━━━━━━━━━━━┩\n",
       "│ dense (<span style=\"color: #0087ff; text-decoration-color: #0087ff\">Dense</span>)                   │ (<span style=\"color: #00d7ff; text-decoration-color: #00d7ff\">None</span>, <span style=\"color: #00af00; text-decoration-color: #00af00\">52</span>)             │           <span style=\"color: #00af00; text-decoration-color: #00af00\">728</span> │\n",
       "├─────────────────────────────────┼────────────────────────┼───────────────┤\n",
       "│ dropout (<span style=\"color: #0087ff; text-decoration-color: #0087ff\">Dropout</span>)               │ (<span style=\"color: #00d7ff; text-decoration-color: #00d7ff\">None</span>, <span style=\"color: #00af00; text-decoration-color: #00af00\">52</span>)             │             <span style=\"color: #00af00; text-decoration-color: #00af00\">0</span> │\n",
       "├─────────────────────────────────┼────────────────────────┼───────────────┤\n",
       "│ dense_1 (<span style=\"color: #0087ff; text-decoration-color: #0087ff\">Dense</span>)                 │ (<span style=\"color: #00d7ff; text-decoration-color: #00d7ff\">None</span>, <span style=\"color: #00af00; text-decoration-color: #00af00\">26</span>)             │         <span style=\"color: #00af00; text-decoration-color: #00af00\">1,378</span> │\n",
       "├─────────────────────────────────┼────────────────────────┼───────────────┤\n",
       "│ dropout_1 (<span style=\"color: #0087ff; text-decoration-color: #0087ff\">Dropout</span>)             │ (<span style=\"color: #00d7ff; text-decoration-color: #00d7ff\">None</span>, <span style=\"color: #00af00; text-decoration-color: #00af00\">26</span>)             │             <span style=\"color: #00af00; text-decoration-color: #00af00\">0</span> │\n",
       "├─────────────────────────────────┼────────────────────────┼───────────────┤\n",
       "│ dense_2 (<span style=\"color: #0087ff; text-decoration-color: #0087ff\">Dense</span>)                 │ (<span style=\"color: #00d7ff; text-decoration-color: #00d7ff\">None</span>, <span style=\"color: #00af00; text-decoration-color: #00af00\">26</span>)             │           <span style=\"color: #00af00; text-decoration-color: #00af00\">702</span> │\n",
       "├─────────────────────────────────┼────────────────────────┼───────────────┤\n",
       "│ dropout_2 (<span style=\"color: #0087ff; text-decoration-color: #0087ff\">Dropout</span>)             │ (<span style=\"color: #00d7ff; text-decoration-color: #00d7ff\">None</span>, <span style=\"color: #00af00; text-decoration-color: #00af00\">26</span>)             │             <span style=\"color: #00af00; text-decoration-color: #00af00\">0</span> │\n",
       "├─────────────────────────────────┼────────────────────────┼───────────────┤\n",
       "│ dense_3 (<span style=\"color: #0087ff; text-decoration-color: #0087ff\">Dense</span>)                 │ (<span style=\"color: #00d7ff; text-decoration-color: #00d7ff\">None</span>, <span style=\"color: #00af00; text-decoration-color: #00af00\">2</span>)              │            <span style=\"color: #00af00; text-decoration-color: #00af00\">54</span> │\n",
       "└─────────────────────────────────┴────────────────────────┴───────────────┘\n",
       "</pre>\n"
      ],
      "text/plain": [
       "┏━━━━━━━━━━━━━━━━━━━━━━━━━━━━━━━━━┳━━━━━━━━━━━━━━━━━━━━━━━━┳━━━━━━━━━━━━━━━┓\n",
       "┃\u001b[1m \u001b[0m\u001b[1mLayer (type)                   \u001b[0m\u001b[1m \u001b[0m┃\u001b[1m \u001b[0m\u001b[1mOutput Shape          \u001b[0m\u001b[1m \u001b[0m┃\u001b[1m \u001b[0m\u001b[1m      Param #\u001b[0m\u001b[1m \u001b[0m┃\n",
       "┡━━━━━━━━━━━━━━━━━━━━━━━━━━━━━━━━━╇━━━━━━━━━━━━━━━━━━━━━━━━╇━━━━━━━━━━━━━━━┩\n",
       "│ dense (\u001b[38;5;33mDense\u001b[0m)                   │ (\u001b[38;5;45mNone\u001b[0m, \u001b[38;5;34m52\u001b[0m)             │           \u001b[38;5;34m728\u001b[0m │\n",
       "├─────────────────────────────────┼────────────────────────┼───────────────┤\n",
       "│ dropout (\u001b[38;5;33mDropout\u001b[0m)               │ (\u001b[38;5;45mNone\u001b[0m, \u001b[38;5;34m52\u001b[0m)             │             \u001b[38;5;34m0\u001b[0m │\n",
       "├─────────────────────────────────┼────────────────────────┼───────────────┤\n",
       "│ dense_1 (\u001b[38;5;33mDense\u001b[0m)                 │ (\u001b[38;5;45mNone\u001b[0m, \u001b[38;5;34m26\u001b[0m)             │         \u001b[38;5;34m1,378\u001b[0m │\n",
       "├─────────────────────────────────┼────────────────────────┼───────────────┤\n",
       "│ dropout_1 (\u001b[38;5;33mDropout\u001b[0m)             │ (\u001b[38;5;45mNone\u001b[0m, \u001b[38;5;34m26\u001b[0m)             │             \u001b[38;5;34m0\u001b[0m │\n",
       "├─────────────────────────────────┼────────────────────────┼───────────────┤\n",
       "│ dense_2 (\u001b[38;5;33mDense\u001b[0m)                 │ (\u001b[38;5;45mNone\u001b[0m, \u001b[38;5;34m26\u001b[0m)             │           \u001b[38;5;34m702\u001b[0m │\n",
       "├─────────────────────────────────┼────────────────────────┼───────────────┤\n",
       "│ dropout_2 (\u001b[38;5;33mDropout\u001b[0m)             │ (\u001b[38;5;45mNone\u001b[0m, \u001b[38;5;34m26\u001b[0m)             │             \u001b[38;5;34m0\u001b[0m │\n",
       "├─────────────────────────────────┼────────────────────────┼───────────────┤\n",
       "│ dense_3 (\u001b[38;5;33mDense\u001b[0m)                 │ (\u001b[38;5;45mNone\u001b[0m, \u001b[38;5;34m2\u001b[0m)              │            \u001b[38;5;34m54\u001b[0m │\n",
       "└─────────────────────────────────┴────────────────────────┴───────────────┘\n"
      ]
     },
     "metadata": {},
     "output_type": "display_data"
    },
    {
     "data": {
      "text/html": [
       "<pre style=\"white-space:pre;overflow-x:auto;line-height:normal;font-family:Menlo,'DejaVu Sans Mono',consolas,'Courier New',monospace\"><span style=\"font-weight: bold\"> Total params: </span><span style=\"color: #00af00; text-decoration-color: #00af00\">2,862</span> (11.18 KB)\n",
       "</pre>\n"
      ],
      "text/plain": [
       "\u001b[1m Total params: \u001b[0m\u001b[38;5;34m2,862\u001b[0m (11.18 KB)\n"
      ]
     },
     "metadata": {},
     "output_type": "display_data"
    },
    {
     "data": {
      "text/html": [
       "<pre style=\"white-space:pre;overflow-x:auto;line-height:normal;font-family:Menlo,'DejaVu Sans Mono',consolas,'Courier New',monospace\"><span style=\"font-weight: bold\"> Trainable params: </span><span style=\"color: #00af00; text-decoration-color: #00af00\">2,862</span> (11.18 KB)\n",
       "</pre>\n"
      ],
      "text/plain": [
       "\u001b[1m Trainable params: \u001b[0m\u001b[38;5;34m2,862\u001b[0m (11.18 KB)\n"
      ]
     },
     "metadata": {},
     "output_type": "display_data"
    },
    {
     "data": {
      "text/html": [
       "<pre style=\"white-space:pre;overflow-x:auto;line-height:normal;font-family:Menlo,'DejaVu Sans Mono',consolas,'Courier New',monospace\"><span style=\"font-weight: bold\"> Non-trainable params: </span><span style=\"color: #00af00; text-decoration-color: #00af00\">0</span> (0.00 B)\n",
       "</pre>\n"
      ],
      "text/plain": [
       "\u001b[1m Non-trainable params: \u001b[0m\u001b[38;5;34m0\u001b[0m (0.00 B)\n"
      ]
     },
     "metadata": {},
     "output_type": "display_data"
    }
   ],
   "source": [
    "#creating a modified model \n",
    "def modified_model(n, num_class):\n",
    "    modified_model = tf.keras.Sequential([\n",
    "        tf.keras.layers.Dense(4 * n, activation='relu', input_shape=(n,)),\n",
    "        tf.keras.layers.Dropout(0.2),  #regularization\n",
    "        tf.keras.layers.Dense(2 * n, activation='relu'),\n",
    "        tf.keras.layers.Dropout(0.2),  #regularization\n",
    "        tf.keras.layers.Dense(2 * n, activation='relu'),\n",
    "        tf.keras.layers.Dropout(0.2),  #regularization\n",
    "        tf.keras.layers.Dense(num_class, activation='softmax')\n",
    "    ])\n",
    "    return modified_model\n",
    "\n",
    "#To optimize the model, the complexity is increased to 4 * n units each, while the baseline only have 2 * n units\n",
    "#Regularization (dropout) is also added to prevent overfitting\n",
    "#while input remains the same.\n",
    "\n",
    "n = 13  \n",
    "num_class = 2 \n",
    "\n",
    "#initialize model\n",
    "m_model = modified_model(n, num_class)\n",
    "m_model.summary()"
   ]
  },
  {
   "cell_type": "code",
   "execution_count": 34,
   "id": "68dac9c5",
   "metadata": {
    "execution": {
     "iopub.execute_input": "2024-04-27T21:28:40.729280Z",
     "iopub.status.busy": "2024-04-27T21:28:40.728922Z",
     "iopub.status.idle": "2024-04-27T21:28:40.741829Z",
     "shell.execute_reply": "2024-04-27T21:28:40.740623Z"
    },
    "papermill": {
     "duration": 0.038617,
     "end_time": "2024-04-27T21:28:40.745048",
     "exception": false,
     "start_time": "2024-04-27T21:28:40.706431",
     "status": "completed"
    },
    "tags": []
   },
   "outputs": [],
   "source": [
    "#compiling the model using the same hyperparameters\n",
    "m_model.compile(loss = 'binary_crossentropy', optimizer='adam', metrics=['accuracy'])"
   ]
  },
  {
   "cell_type": "code",
   "execution_count": 35,
   "id": "1bd91aa3",
   "metadata": {
    "execution": {
     "iopub.execute_input": "2024-04-27T21:28:40.790940Z",
     "iopub.status.busy": "2024-04-27T21:28:40.790577Z",
     "iopub.status.idle": "2024-04-27T21:28:48.637794Z",
     "shell.execute_reply": "2024-04-27T21:28:48.636873Z"
    },
    "papermill": {
     "duration": 7.872807,
     "end_time": "2024-04-27T21:28:48.640219",
     "exception": false,
     "start_time": "2024-04-27T21:28:40.767412",
     "status": "completed"
    },
    "tags": []
   },
   "outputs": [
    {
     "name": "stdout",
     "output_type": "stream",
     "text": [
      "Epoch 1/100\n",
      "\u001b[1m224/224\u001b[0m \u001b[32m━━━━━━━━━━━━━━━━━━━━\u001b[0m\u001b[37m\u001b[0m \u001b[1m2s\u001b[0m 3ms/step - accuracy: 0.7072 - loss: 0.5883 - val_accuracy: 0.8891 - val_loss: 0.2615\n",
      "Epoch 2/100\n",
      "\u001b[1m224/224\u001b[0m \u001b[32m━━━━━━━━━━━━━━━━━━━━\u001b[0m\u001b[37m\u001b[0m \u001b[1m1s\u001b[0m 2ms/step - accuracy: 0.8991 - loss: 0.2524 - val_accuracy: 0.9355 - val_loss: 0.1729\n",
      "Epoch 3/100\n",
      "\u001b[1m224/224\u001b[0m \u001b[32m━━━━━━━━━━━━━━━━━━━━\u001b[0m\u001b[37m\u001b[0m \u001b[1m0s\u001b[0m 2ms/step - accuracy: 0.9291 - loss: 0.1856 - val_accuracy: 0.9254 - val_loss: 0.1637\n",
      "Epoch 4/100\n",
      "\u001b[1m224/224\u001b[0m \u001b[32m━━━━━━━━━━━━━━━━━━━━\u001b[0m\u001b[37m\u001b[0m \u001b[1m1s\u001b[0m 3ms/step - accuracy: 0.9337 - loss: 0.1667 - val_accuracy: 0.9254 - val_loss: 0.1572\n",
      "Epoch 5/100\n",
      "\u001b[1m224/224\u001b[0m \u001b[32m━━━━━━━━━━━━━━━━━━━━\u001b[0m\u001b[37m\u001b[0m \u001b[1m1s\u001b[0m 3ms/step - accuracy: 0.9374 - loss: 0.1555 - val_accuracy: 0.9375 - val_loss: 0.1477\n",
      "Epoch 6/100\n",
      "\u001b[1m224/224\u001b[0m \u001b[32m━━━━━━━━━━━━━━━━━━━━\u001b[0m\u001b[37m\u001b[0m \u001b[1m1s\u001b[0m 2ms/step - accuracy: 0.9495 - loss: 0.1348 - val_accuracy: 0.9476 - val_loss: 0.1296\n",
      "Epoch 7/100\n",
      "\u001b[1m224/224\u001b[0m \u001b[32m━━━━━━━━━━━━━━━━━━━━\u001b[0m\u001b[37m\u001b[0m \u001b[1m1s\u001b[0m 2ms/step - accuracy: 0.9504 - loss: 0.1293 - val_accuracy: 0.9415 - val_loss: 0.1262\n",
      "Epoch 8/100\n",
      "\u001b[1m224/224\u001b[0m \u001b[32m━━━━━━━━━━━━━━━━━━━━\u001b[0m\u001b[37m\u001b[0m \u001b[1m1s\u001b[0m 2ms/step - accuracy: 0.9500 - loss: 0.1263 - val_accuracy: 0.9556 - val_loss: 0.1060\n",
      "Epoch 9/100\n",
      "\u001b[1m224/224\u001b[0m \u001b[32m━━━━━━━━━━━━━━━━━━━━\u001b[0m\u001b[37m\u001b[0m \u001b[1m1s\u001b[0m 2ms/step - accuracy: 0.9518 - loss: 0.1234 - val_accuracy: 0.9536 - val_loss: 0.1098\n",
      "Epoch 10/100\n",
      "\u001b[1m224/224\u001b[0m \u001b[32m━━━━━━━━━━━━━━━━━━━━\u001b[0m\u001b[37m\u001b[0m \u001b[1m1s\u001b[0m 3ms/step - accuracy: 0.9528 - loss: 0.1124 - val_accuracy: 0.9496 - val_loss: 0.1151\n"
     ]
    }
   ],
   "source": [
    "#fit and train the model to the train set and validation set\n",
    "m_history = m_model.fit(x_train, y_train_one_hot, epochs=100, validation_data=(x_valid, y_valid_one_hot), callbacks=[es])"
   ]
  },
  {
   "cell_type": "code",
   "execution_count": 36,
   "id": "f5a638b4",
   "metadata": {
    "execution": {
     "iopub.execute_input": "2024-04-27T21:28:48.698698Z",
     "iopub.status.busy": "2024-04-27T21:28:48.698321Z",
     "iopub.status.idle": "2024-04-27T21:28:48.894855Z",
     "shell.execute_reply": "2024-04-27T21:28:48.893574Z"
    },
    "papermill": {
     "duration": 0.228479,
     "end_time": "2024-04-27T21:28:48.897025",
     "exception": false,
     "start_time": "2024-04-27T21:28:48.668546",
     "status": "completed"
    },
    "tags": []
   },
   "outputs": [
    {
     "name": "stdout",
     "output_type": "stream",
     "text": [
      "\u001b[1m16/16\u001b[0m \u001b[32m━━━━━━━━━━━━━━━━━━━━\u001b[0m\u001b[37m\u001b[0m \u001b[1m0s\u001b[0m 4ms/step\n",
      "Accuracy: 0.8548387096774194\n",
      "Precision: 0.9272788860099468\n",
      "Recall: 0.8548387096774194\n",
      "F1 Score: 0.8786961386222392\n"
     ]
    }
   ],
   "source": [
    "# Predict probabilities for each class for the test set\n",
    "modified_predicted_probabilities = m_model.predict(x_test)\n",
    "\n",
    "#use np.argmax to find the highest probability and assign it as our predicted label.\n",
    "modified_predicted_classes = np.argmax(modified_predicted_probabilities, axis=1)\n",
    "\n",
    "# evaluation metrics\n",
    "accuracy = accuracy_score(y_test, modified_predicted_classes)\n",
    "precision = precision_score(y_test, modified_predicted_classes, average='weighted')\n",
    "recall = recall_score(y_test, modified_predicted_classes, average='weighted')\n",
    "f1 = f1_score(y_test, modified_predicted_classes, average='weighted')\n",
    "\n",
    "# Print evaluation\n",
    "print(\"Accuracy:\", accuracy)\n",
    "print(\"Precision:\", precision)\n",
    "print(\"Recall:\", recall)\n",
    "print(\"F1 Score:\", f1)"
   ]
  },
  {
   "cell_type": "markdown",
   "id": "d3895307",
   "metadata": {
    "papermill": {
     "duration": 0.028298,
     "end_time": "2024-04-27T21:28:48.953849",
     "exception": false,
     "start_time": "2024-04-27T21:28:48.925551",
     "status": "completed"
    },
    "tags": []
   },
   "source": [
    "#### Overall, the modified model performs slightly below the baseline_model in all aspects, this means that our modified model, one of the possibilities could be due to overfitting, since the modified model were added more layers/neurons, our modified model could be fitting too closely to the training set, making it bad to predict the test set."
   ]
  },
  {
   "cell_type": "markdown",
   "id": "fd5adf01",
   "metadata": {
    "papermill": {
     "duration": 0.031105,
     "end_time": "2024-04-27T21:28:49.014461",
     "exception": false,
     "start_time": "2024-04-27T21:28:48.983356",
     "status": "completed"
    },
    "tags": []
   },
   "source": [
    "#### Link video penjelasan ; https://drive.google.com/drive/folders/1rQq5SgeiFRYH312JltEJmTNqjDc17vVo?usp=sharing"
   ]
  }
 ],
 "metadata": {
  "kaggle": {
   "accelerator": "none",
   "dataSources": [
    {
     "datasetId": 4865818,
     "sourceId": 8210787,
     "sourceType": "datasetVersion"
    }
   ],
   "dockerImageVersionId": 30698,
   "isGpuEnabled": false,
   "isInternetEnabled": true,
   "language": "python",
   "sourceType": "notebook"
  },
  "kernelspec": {
   "display_name": "Python 3 (ipykernel)",
   "language": "python",
   "name": "python3"
  },
  "language_info": {
   "codemirror_mode": {
    "name": "ipython",
    "version": 3
   },
   "file_extension": ".py",
   "mimetype": "text/x-python",
   "name": "python",
   "nbconvert_exporter": "python",
   "pygments_lexer": "ipython3",
   "version": "3.10.13"
  },
  "papermill": {
   "default_parameters": {},
   "duration": 103.083404,
   "end_time": "2024-04-27T21:28:52.052997",
   "environment_variables": {},
   "exception": null,
   "input_path": "__notebook__.ipynb",
   "output_path": "__notebook__.ipynb",
   "parameters": {},
   "start_time": "2024-04-27T21:27:08.969593",
   "version": "2.5.0"
  }
 },
 "nbformat": 4,
 "nbformat_minor": 5
}
